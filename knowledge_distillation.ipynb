{
  "nbformat": 4,
  "nbformat_minor": 0,
  "metadata": {
    "colab": {
      "name": "knowledge-distillation.ipynb",
      "provenance": [],
      "collapsed_sections": [],
      "authorship_tag": "ABX9TyMeJFt15aU+WkuIkGBwljex",
      "include_colab_link": true
    },
    "kernelspec": {
      "name": "python3",
      "display_name": "Python 3"
    },
    "language_info": {
      "name": "python"
    },
    "accelerator": "GPU"
  },
  "cells": [
    {
      "cell_type": "markdown",
      "metadata": {
        "id": "view-in-github",
        "colab_type": "text"
      },
      "source": [
        "<a href=\"https://colab.research.google.com/github/giovannidispoto/machine-and-deep-learning-playground/blob/main/knowledge_distillation.ipynb\" target=\"_parent\"><img src=\"https://colab.research.google.com/assets/colab-badge.svg\" alt=\"Open In Colab\"/></a>"
      ]
    },
    {
      "cell_type": "markdown",
      "metadata": {
        "id": "svQIPP76_RVO"
      },
      "source": [
        "# Knowledge Distillation\n",
        "\n",
        "In this notebook we will implement the knowledge distillation technique presented in the paper **Distilling the Knowledge in a Neural Network** by Hinton et Al., using a Teacher-Student Architecture.\n",
        "\n",
        "![1_8KqNtABnNXM527JK9UuBUQ.webp](data:image/webp;base64,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)\n",
        "\n",
        "The main idea is to train a big complex network with a strong regularizer as Dropout and then distill the knowledge inside a simpler model that could be used in deployment."
      ]
    },
    {
      "cell_type": "code",
      "metadata": {
        "id": "4G5zgKXO_D90"
      },
      "source": [
        "import tensorflow as tf\n",
        "import pandas as pd\n",
        "import sklearn.preprocessing"
      ],
      "execution_count": 23,
      "outputs": []
    },
    {
      "cell_type": "code",
      "metadata": {
        "id": "4pQLFVNYcdcC"
      },
      "source": [
        "tf.random.set_seed(1234)"
      ],
      "execution_count": 24,
      "outputs": []
    },
    {
      "cell_type": "code",
      "metadata": {
        "id": "9F_0S3hKAcUU"
      },
      "source": [
        "(x_train, y_train), (x_test, y_test) = tf.keras.datasets.cifar10.load_data()"
      ],
      "execution_count": 25,
      "outputs": []
    },
    {
      "cell_type": "code",
      "metadata": {
        "id": "RW1KHSCVLPdu"
      },
      "source": [
        "label_binarizer = sklearn.preprocessing.LabelBinarizer()\n",
        "label_binarizer.fit(range(10))\n",
        "y_train = label_binarizer.transform(y_train)\n",
        "y_test = label_binarizer.transform(y_test)"
      ],
      "execution_count": 26,
      "outputs": []
    },
    {
      "cell_type": "markdown",
      "metadata": {
        "id": "8z4R7aJcFLRr"
      },
      "source": [
        "Teacher model"
      ]
    },
    {
      "cell_type": "code",
      "metadata": {
        "id": "Cx6EEIDJFJit"
      },
      "source": [
        "#Creating a CNN from scratch\n",
        "teacher = tf.keras.Sequential()\n",
        "\n",
        "start_f = 16\n",
        "depth = 5\n",
        "img_h = 32\n",
        "img_w = 32\n",
        "num_classes = 10\n",
        "\n",
        "    \n",
        "# Features extraction\n",
        "for i in range(depth):\n",
        "    if i == 0:\n",
        "         input_shape = [img_h, img_w, 3]\n",
        "    else:\n",
        "         input_shape=[None]\n",
        "\n",
        "        # Conv block: Conv2D -> Activation -> Conv2D -> Activation -> Pooling\n",
        "    teacher.add(tf.keras.layers.Conv2D(filters=start_f, \n",
        "                                     kernel_size=(3, 3),\n",
        "                                     strides=(1, 1),\n",
        "                                     padding='same',\n",
        "                                     input_shape=input_shape))\n",
        "    teacher.add(tf.keras.layers.ReLU())\n",
        "    teacher.add(tf.keras.layers.Conv2D(filters=start_f, \n",
        "                                     kernel_size=(3, 3),\n",
        "                                     strides=(1, 1),\n",
        "                                     padding='same'))\n",
        "    teacher.add(tf.keras.layers.ReLU())                                \n",
        "    teacher.add(tf.keras.layers.MaxPool2D(pool_size=(2, 2), strides=(2,2)))\n",
        "\n",
        "    start_f *= 2\n",
        "    \n",
        "# Classifier\n",
        "teacher.add(tf.keras.layers.Flatten())\n",
        "teacher.add(tf.keras.layers.Dense(units=512, activation='relu'))\n",
        "teacher.add(tf.keras.layers.Dropout(0.3))\n",
        "teacher.add(tf.keras.layers.Dense(units=num_classes))"
      ],
      "execution_count": 27,
      "outputs": []
    },
    {
      "cell_type": "code",
      "metadata": {
        "colab": {
          "base_uri": "https://localhost:8080/"
        },
        "id": "G_IRo9sNBtAe",
        "outputId": "e2010a6d-9320-4b8c-ba61-f37993d1d7d8"
      },
      "source": [
        "teacher.summary()"
      ],
      "execution_count": 28,
      "outputs": [
        {
          "output_type": "stream",
          "name": "stdout",
          "text": [
            "Model: \"sequential_3\"\n",
            "_________________________________________________________________\n",
            "Layer (type)                 Output Shape              Param #   \n",
            "=================================================================\n",
            "conv2d_24 (Conv2D)           (None, 32, 32, 16)        448       \n",
            "_________________________________________________________________\n",
            "re_lu_24 (ReLU)              (None, 32, 32, 16)        0         \n",
            "_________________________________________________________________\n",
            "conv2d_25 (Conv2D)           (None, 32, 32, 16)        2320      \n",
            "_________________________________________________________________\n",
            "re_lu_25 (ReLU)              (None, 32, 32, 16)        0         \n",
            "_________________________________________________________________\n",
            "max_pooling2d_12 (MaxPooling (None, 16, 16, 16)        0         \n",
            "_________________________________________________________________\n",
            "conv2d_26 (Conv2D)           (None, 16, 16, 32)        4640      \n",
            "_________________________________________________________________\n",
            "re_lu_26 (ReLU)              (None, 16, 16, 32)        0         \n",
            "_________________________________________________________________\n",
            "conv2d_27 (Conv2D)           (None, 16, 16, 32)        9248      \n",
            "_________________________________________________________________\n",
            "re_lu_27 (ReLU)              (None, 16, 16, 32)        0         \n",
            "_________________________________________________________________\n",
            "max_pooling2d_13 (MaxPooling (None, 8, 8, 32)          0         \n",
            "_________________________________________________________________\n",
            "conv2d_28 (Conv2D)           (None, 8, 8, 64)          18496     \n",
            "_________________________________________________________________\n",
            "re_lu_28 (ReLU)              (None, 8, 8, 64)          0         \n",
            "_________________________________________________________________\n",
            "conv2d_29 (Conv2D)           (None, 8, 8, 64)          36928     \n",
            "_________________________________________________________________\n",
            "re_lu_29 (ReLU)              (None, 8, 8, 64)          0         \n",
            "_________________________________________________________________\n",
            "max_pooling2d_14 (MaxPooling (None, 4, 4, 64)          0         \n",
            "_________________________________________________________________\n",
            "conv2d_30 (Conv2D)           (None, 4, 4, 128)         73856     \n",
            "_________________________________________________________________\n",
            "re_lu_30 (ReLU)              (None, 4, 4, 128)         0         \n",
            "_________________________________________________________________\n",
            "conv2d_31 (Conv2D)           (None, 4, 4, 128)         147584    \n",
            "_________________________________________________________________\n",
            "re_lu_31 (ReLU)              (None, 4, 4, 128)         0         \n",
            "_________________________________________________________________\n",
            "max_pooling2d_15 (MaxPooling (None, 2, 2, 128)         0         \n",
            "_________________________________________________________________\n",
            "conv2d_32 (Conv2D)           (None, 2, 2, 256)         295168    \n",
            "_________________________________________________________________\n",
            "re_lu_32 (ReLU)              (None, 2, 2, 256)         0         \n",
            "_________________________________________________________________\n",
            "conv2d_33 (Conv2D)           (None, 2, 2, 256)         590080    \n",
            "_________________________________________________________________\n",
            "re_lu_33 (ReLU)              (None, 2, 2, 256)         0         \n",
            "_________________________________________________________________\n",
            "max_pooling2d_16 (MaxPooling (None, 1, 1, 256)         0         \n",
            "_________________________________________________________________\n",
            "flatten_3 (Flatten)          (None, 256)               0         \n",
            "_________________________________________________________________\n",
            "dense_6 (Dense)              (None, 512)               131584    \n",
            "_________________________________________________________________\n",
            "dropout_2 (Dropout)          (None, 512)               0         \n",
            "_________________________________________________________________\n",
            "dense_7 (Dense)              (None, 10)                5130      \n",
            "=================================================================\n",
            "Total params: 1,315,482\n",
            "Trainable params: 1,315,482\n",
            "Non-trainable params: 0\n",
            "_________________________________________________________________\n"
          ]
        }
      ]
    },
    {
      "cell_type": "code",
      "metadata": {
        "colab": {
          "base_uri": "https://localhost:8080/"
        },
        "id": "Ik5ggmk7GnGe",
        "outputId": "6125d1ed-cb0e-48af-eeb8-484b0bfa6202"
      },
      "source": [
        "lr = 1e-4\n",
        "teacher.compile(loss= tf.keras.losses.CategoricalCrossentropy(from_logits=True), optimizer=tf.keras.optimizers.Adam(lr), metrics=tf.keras.metrics.CategoricalAccuracy())\n",
        "history_t = teacher.fit(x = x_train,\n",
        "          y = y_train,\n",
        "          batch_size=32,\n",
        "          epochs=10, \n",
        "          validation_data=(x_test, y_test)\n",
        "          )"
      ],
      "execution_count": 29,
      "outputs": [
        {
          "output_type": "stream",
          "name": "stdout",
          "text": [
            "Epoch 1/10\n",
            "1563/1563 [==============================] - 27s 17ms/step - loss: 1.6111 - categorical_accuracy: 0.4113 - val_loss: 1.3495 - val_categorical_accuracy: 0.5204\n",
            "Epoch 2/10\n",
            "1563/1563 [==============================] - 26s 17ms/step - loss: 1.2927 - categorical_accuracy: 0.5362 - val_loss: 1.2236 - val_categorical_accuracy: 0.5681\n",
            "Epoch 3/10\n",
            "1563/1563 [==============================] - 26s 17ms/step - loss: 1.1208 - categorical_accuracy: 0.6007 - val_loss: 1.1081 - val_categorical_accuracy: 0.6100\n",
            "Epoch 4/10\n",
            "1563/1563 [==============================] - 25s 16ms/step - loss: 0.9928 - categorical_accuracy: 0.6480 - val_loss: 1.0432 - val_categorical_accuracy: 0.6292\n",
            "Epoch 5/10\n",
            "1563/1563 [==============================] - 25s 16ms/step - loss: 0.8860 - categorical_accuracy: 0.6890 - val_loss: 0.9911 - val_categorical_accuracy: 0.6562\n",
            "Epoch 6/10\n",
            "1563/1563 [==============================] - 25s 16ms/step - loss: 0.7804 - categorical_accuracy: 0.7280 - val_loss: 1.0108 - val_categorical_accuracy: 0.6523\n",
            "Epoch 7/10\n",
            "1563/1563 [==============================] - 25s 16ms/step - loss: 0.6879 - categorical_accuracy: 0.7588 - val_loss: 0.9956 - val_categorical_accuracy: 0.6699\n",
            "Epoch 8/10\n",
            "1563/1563 [==============================] - 25s 16ms/step - loss: 0.5946 - categorical_accuracy: 0.7921 - val_loss: 1.0313 - val_categorical_accuracy: 0.6670\n",
            "Epoch 9/10\n",
            "1563/1563 [==============================] - 25s 16ms/step - loss: 0.5078 - categorical_accuracy: 0.8222 - val_loss: 1.0678 - val_categorical_accuracy: 0.6651\n",
            "Epoch 10/10\n",
            "1563/1563 [==============================] - 25s 16ms/step - loss: 0.4275 - categorical_accuracy: 0.8520 - val_loss: 1.1070 - val_categorical_accuracy: 0.6720\n"
          ]
        }
      ]
    },
    {
      "cell_type": "code",
      "metadata": {
        "id": "njHxPbnDNSJs"
      },
      "source": [
        "teacher.trainable = False"
      ],
      "execution_count": 30,
      "outputs": []
    },
    {
      "cell_type": "markdown",
      "metadata": {
        "id": "G67fgLndPCVC"
      },
      "source": [
        "Here we are distilling by minimizing the difference between the Logits of the Teacher model and the Logits of the student model.\n",
        "High temperature T-> +inf gives softer functions.\n",
        "\n",
        "The distillation loss is meaused using the Kullback-Leibler divergence that meause the distance between two probability distribution (Student and Teacher). "
      ]
    },
    {
      "cell_type": "code",
      "metadata": {
        "id": "ZS07tFLMNVP5"
      },
      "source": [
        "#Code from: https://keras.io/examples/vision/knowledge_distillation/\n",
        "class Distiller(tf.keras.Model):\n",
        "    def __init__(self, student, teacher):\n",
        "        super(Distiller, self).__init__()\n",
        "        self.teacher = teacher\n",
        "        self.student = student\n",
        "\n",
        "    def compile(\n",
        "        self,\n",
        "        optimizer,\n",
        "        metrics,\n",
        "        student_loss_fn,\n",
        "        distillation_loss_fn,\n",
        "        alpha=0.1,\n",
        "        temperature=3,\n",
        "    ):\n",
        "        \"\"\" Configure the distiller.\n",
        "\n",
        "        Args:\n",
        "            optimizer: Keras optimizer for the student weights\n",
        "            metrics: Keras metrics for evaluation\n",
        "            student_loss_fn: Loss function of difference between student\n",
        "                predictions and ground-truth\n",
        "            distillation_loss_fn: Loss function of difference between soft\n",
        "                student predictions and soft teacher predictions\n",
        "            alpha: weight to student_loss_fn and 1-alpha to distillation_loss_fn\n",
        "            temperature: Temperature for softening probability distributions.\n",
        "                Larger temperature gives softer distributions.\n",
        "        \"\"\"\n",
        "        super(Distiller, self).compile(optimizer=optimizer, metrics=metrics)\n",
        "        self.student_loss_fn = student_loss_fn\n",
        "        self.distillation_loss_fn = distillation_loss_fn\n",
        "        self.alpha = alpha\n",
        "        self.temperature = temperature\n",
        "\n",
        "    def train_step(self, data):\n",
        "        # Unpack data\n",
        "        x, y = data\n",
        "\n",
        "        # Forward pass of teacher\n",
        "        teacher_predictions = self.teacher(x, training=False)\n",
        "\n",
        "        with tf.GradientTape() as tape:\n",
        "            # Forward pass of student\n",
        "            student_predictions = self.student(x, training=True)\n",
        "\n",
        "            # Compute losses\n",
        "            student_loss = self.student_loss_fn(y, student_predictions)\n",
        "            distillation_loss = self.distillation_loss_fn(\n",
        "                tf.nn.softmax(teacher_predictions / self.temperature, axis=1),\n",
        "                tf.nn.softmax(student_predictions / self.temperature, axis=1),\n",
        "            )\n",
        "            loss = self.alpha * student_loss + (1 - self.alpha) * distillation_loss\n",
        "\n",
        "        # Compute gradients\n",
        "        trainable_vars = self.student.trainable_variables\n",
        "        gradients = tape.gradient(loss, trainable_vars)\n",
        "\n",
        "        # Update weights\n",
        "        self.optimizer.apply_gradients(zip(gradients, trainable_vars))\n",
        "\n",
        "        # Update the metrics configured in `compile()`.\n",
        "        self.compiled_metrics.update_state(y, student_predictions)\n",
        "\n",
        "        # Return a dict of performance\n",
        "        results = {m.name: m.result() for m in self.metrics}\n",
        "        results.update(\n",
        "            {\"student_loss\": student_loss, \"distillation_loss\": distillation_loss}\n",
        "        )\n",
        "        return results\n",
        "\n",
        "    def test_step(self, data):\n",
        "        # Unpack the data\n",
        "        x, y = data\n",
        "\n",
        "        # Compute predictions\n",
        "        y_prediction = self.student(x, training=False)\n",
        "\n",
        "        # Calculate the loss\n",
        "        student_loss = self.student_loss_fn(y, y_prediction)\n",
        "\n",
        "        # Update the metrics.\n",
        "        self.compiled_metrics.update_state(y, y_prediction)\n",
        "\n",
        "        # Return a dict of performance\n",
        "        results = {m.name: m.result() for m in self.metrics}\n",
        "        results.update({\"student_loss\": student_loss})\n",
        "        return results"
      ],
      "execution_count": 31,
      "outputs": []
    },
    {
      "cell_type": "markdown",
      "metadata": {
        "id": "UC99kRb5cvvg"
      },
      "source": [
        "Student model"
      ]
    },
    {
      "cell_type": "code",
      "metadata": {
        "id": "XstlmGaeOBs_"
      },
      "source": [
        "#Creating a CNN from scratch\n",
        "student = tf.keras.Sequential()\n",
        "\n",
        "start_f = 8\n",
        "depth = 2\n",
        "img_h = 32\n",
        "img_w = 32\n",
        "num_classes = 10\n",
        "\n",
        "    \n",
        "# Features extraction\n",
        "for i in range(depth):\n",
        "    if i == 0:\n",
        "         input_shape = [img_h, img_w, 3]\n",
        "    else:\n",
        "         input_shape=[None]\n",
        "\n",
        "        # Conv block: Conv2D -> Activation -> Conv2D -> Activation -> Pooling\n",
        "    student.add(tf.keras.layers.Conv2D(filters=start_f, \n",
        "                                     kernel_size=(3, 3),\n",
        "                                     strides=(1, 1),\n",
        "                                     padding='same',\n",
        "                                     input_shape=input_shape))\n",
        "    student.add(tf.keras.layers.ReLU())\n",
        "    student.add(tf.keras.layers.Conv2D(filters=start_f, \n",
        "                                     kernel_size=(3, 3),\n",
        "                                     strides=(1, 1),\n",
        "                                     padding='same'))\n",
        "    student.add(tf.keras.layers.ReLU())                                \n",
        "    student.add(tf.keras.layers.MaxPool2D(pool_size=(2, 2), strides=(2,2)))\n",
        "\n",
        "    start_f *= 2\n",
        "    \n",
        "# Classifier\n",
        "student.add(tf.keras.layers.Flatten())\n",
        "student.add(tf.keras.layers.Dense(units=128, activation='relu'))\n",
        "student.add(tf.keras.layers.Dense(units=num_classes))"
      ],
      "execution_count": 32,
      "outputs": []
    },
    {
      "cell_type": "code",
      "metadata": {
        "colab": {
          "base_uri": "https://localhost:8080/"
        },
        "id": "6fuAw4LWOaUe",
        "outputId": "e37e3658-682b-4541-9ebc-bde4e0f4b6bc"
      },
      "source": [
        "student.summary()"
      ],
      "execution_count": 33,
      "outputs": [
        {
          "output_type": "stream",
          "name": "stdout",
          "text": [
            "Model: \"sequential_4\"\n",
            "_________________________________________________________________\n",
            "Layer (type)                 Output Shape              Param #   \n",
            "=================================================================\n",
            "conv2d_34 (Conv2D)           (None, 32, 32, 8)         224       \n",
            "_________________________________________________________________\n",
            "re_lu_34 (ReLU)              (None, 32, 32, 8)         0         \n",
            "_________________________________________________________________\n",
            "conv2d_35 (Conv2D)           (None, 32, 32, 8)         584       \n",
            "_________________________________________________________________\n",
            "re_lu_35 (ReLU)              (None, 32, 32, 8)         0         \n",
            "_________________________________________________________________\n",
            "max_pooling2d_17 (MaxPooling (None, 16, 16, 8)         0         \n",
            "_________________________________________________________________\n",
            "conv2d_36 (Conv2D)           (None, 16, 16, 16)        1168      \n",
            "_________________________________________________________________\n",
            "re_lu_36 (ReLU)              (None, 16, 16, 16)        0         \n",
            "_________________________________________________________________\n",
            "conv2d_37 (Conv2D)           (None, 16, 16, 16)        2320      \n",
            "_________________________________________________________________\n",
            "re_lu_37 (ReLU)              (None, 16, 16, 16)        0         \n",
            "_________________________________________________________________\n",
            "max_pooling2d_18 (MaxPooling (None, 8, 8, 16)          0         \n",
            "_________________________________________________________________\n",
            "flatten_4 (Flatten)          (None, 1024)              0         \n",
            "_________________________________________________________________\n",
            "dense_8 (Dense)              (None, 128)               131200    \n",
            "_________________________________________________________________\n",
            "dense_9 (Dense)              (None, 10)                1290      \n",
            "=================================================================\n",
            "Total params: 136,786\n",
            "Trainable params: 136,786\n",
            "Non-trainable params: 0\n",
            "_________________________________________________________________\n"
          ]
        }
      ]
    },
    {
      "cell_type": "markdown",
      "metadata": {
        "id": "BcWl2c80czSW"
      },
      "source": [
        "Here we create a copy of the student network in order to compare after the outcome of training with and without the teacher"
      ]
    },
    {
      "cell_type": "code",
      "metadata": {
        "id": "RCCM2cX6XN-8"
      },
      "source": [
        "student_copy = tf.keras.models.clone_model(student)"
      ],
      "execution_count": 34,
      "outputs": []
    },
    {
      "cell_type": "code",
      "metadata": {
        "id": "9dPSfUUpOkvf"
      },
      "source": [
        "distiller = Distiller(student=student, teacher=teacher)"
      ],
      "execution_count": 35,
      "outputs": []
    },
    {
      "cell_type": "markdown",
      "metadata": {
        "id": "ID0asFwrc__t"
      },
      "source": [
        "Fitting the student"
      ]
    },
    {
      "cell_type": "code",
      "metadata": {
        "colab": {
          "base_uri": "https://localhost:8080/"
        },
        "id": "jgRoNbjuO5V9",
        "outputId": "7ce4b4bc-b8b0-438c-caf3-766e18104f83"
      },
      "source": [
        "distiller.compile(\n",
        "    optimizer=tf.keras.optimizers.Adam(lr),\n",
        "    metrics=[tf.keras.metrics.CategoricalAccuracy()],\n",
        "    student_loss_fn=tf.keras.losses.CategoricalCrossentropy(from_logits=True),\n",
        "    distillation_loss_fn=tf.keras.losses.KLDivergence(),\n",
        "    alpha=0.1,\n",
        "    temperature=10,\n",
        ")\n",
        "\n",
        "# Distill teacher to student\n",
        "history_d = distiller.fit(x = x_train,\n",
        "          y = y_train,\n",
        "          batch_size=32,\n",
        "          epochs=10, \n",
        "          validation_data=(x_test, y_test)\n",
        "          )"
      ],
      "execution_count": 36,
      "outputs": [
        {
          "output_type": "stream",
          "name": "stdout",
          "text": [
            "Epoch 1/10\n",
            "1563/1563 [==============================] - 17s 10ms/step - categorical_accuracy: 0.3060 - student_loss: 2.1648 - distillation_loss: 0.0869 - val_categorical_accuracy: 0.4058 - val_student_loss: 1.6866\n",
            "Epoch 2/10\n",
            "1563/1563 [==============================] - 16s 10ms/step - categorical_accuracy: 0.4516 - student_loss: 1.5590 - distillation_loss: 0.0598 - val_categorical_accuracy: 0.4745 - val_student_loss: 1.7725\n",
            "Epoch 3/10\n",
            "1563/1563 [==============================] - 16s 10ms/step - categorical_accuracy: 0.5069 - student_loss: 1.4048 - distillation_loss: 0.0519 - val_categorical_accuracy: 0.5080 - val_student_loss: 1.6417\n",
            "Epoch 4/10\n",
            "1563/1563 [==============================] - 16s 10ms/step - categorical_accuracy: 0.5439 - student_loss: 1.3048 - distillation_loss: 0.0471 - val_categorical_accuracy: 0.5364 - val_student_loss: 1.3814\n",
            "Epoch 5/10\n",
            "1563/1563 [==============================] - 16s 11ms/step - categorical_accuracy: 0.5714 - student_loss: 1.2275 - distillation_loss: 0.0436 - val_categorical_accuracy: 0.5473 - val_student_loss: 1.2082\n",
            "Epoch 6/10\n",
            "1563/1563 [==============================] - 16s 11ms/step - categorical_accuracy: 0.5945 - student_loss: 1.1578 - distillation_loss: 0.0410 - val_categorical_accuracy: 0.5601 - val_student_loss: 0.9490\n",
            "Epoch 7/10\n",
            "1563/1563 [==============================] - 17s 11ms/step - categorical_accuracy: 0.6133 - student_loss: 1.1017 - distillation_loss: 0.0387 - val_categorical_accuracy: 0.5627 - val_student_loss: 1.1093\n",
            "Epoch 8/10\n",
            "1563/1563 [==============================] - 17s 11ms/step - categorical_accuracy: 0.6354 - student_loss: 1.0482 - distillation_loss: 0.0370 - val_categorical_accuracy: 0.5620 - val_student_loss: 0.9313\n",
            "Epoch 9/10\n",
            "1563/1563 [==============================] - 16s 11ms/step - categorical_accuracy: 0.6495 - student_loss: 0.9993 - distillation_loss: 0.0354 - val_categorical_accuracy: 0.5798 - val_student_loss: 0.9789\n",
            "Epoch 10/10\n",
            "1563/1563 [==============================] - 16s 11ms/step - categorical_accuracy: 0.6657 - student_loss: 0.9570 - distillation_loss: 0.0342 - val_categorical_accuracy: 0.5829 - val_student_loss: 0.7851\n"
          ]
        }
      ]
    },
    {
      "cell_type": "markdown",
      "metadata": {
        "id": "QwhLJHi6RJN-"
      },
      "source": [
        "Now we train the very same model without the distillation in order to compare the performances between the previous one"
      ]
    },
    {
      "cell_type": "code",
      "metadata": {
        "colab": {
          "base_uri": "https://localhost:8080/"
        },
        "id": "HRIJ_E_0SzOx",
        "outputId": "2b20234c-1d3d-4cf3-b795-d5592788e09b"
      },
      "source": [
        "lr = 1e-4\n",
        "student_copy.compile(loss= tf.keras.losses.CategoricalCrossentropy(from_logits=True), optimizer=tf.keras.optimizers.Adam(lr), metrics=tf.keras.metrics.CategoricalAccuracy())\n",
        "history_s = student_copy.fit(x = x_train,\n",
        "          y = y_train,\n",
        "          batch_size=32,\n",
        "          epochs=10, \n",
        "          validation_data=(x_test, y_test)\n",
        "          )"
      ],
      "execution_count": 37,
      "outputs": [
        {
          "output_type": "stream",
          "name": "stdout",
          "text": [
            "Epoch 1/10\n",
            "1563/1563 [==============================] - 12s 7ms/step - loss: 2.2236 - categorical_accuracy: 0.2880 - val_loss: 1.7455 - val_categorical_accuracy: 0.3783\n",
            "Epoch 2/10\n",
            "1563/1563 [==============================] - 11s 7ms/step - loss: 1.6124 - categorical_accuracy: 0.4238 - val_loss: 1.5468 - val_categorical_accuracy: 0.4465\n",
            "Epoch 3/10\n",
            "1563/1563 [==============================] - 11s 7ms/step - loss: 1.4426 - categorical_accuracy: 0.4850 - val_loss: 1.4276 - val_categorical_accuracy: 0.4935\n",
            "Epoch 4/10\n",
            "1563/1563 [==============================] - 11s 7ms/step - loss: 1.3351 - categorical_accuracy: 0.5257 - val_loss: 1.3667 - val_categorical_accuracy: 0.5164\n",
            "Epoch 5/10\n",
            "1563/1563 [==============================] - 11s 7ms/step - loss: 1.2550 - categorical_accuracy: 0.5530 - val_loss: 1.3236 - val_categorical_accuracy: 0.5286\n",
            "Epoch 6/10\n",
            "1563/1563 [==============================] - 11s 7ms/step - loss: 1.1871 - categorical_accuracy: 0.5795 - val_loss: 1.2818 - val_categorical_accuracy: 0.5416\n",
            "Epoch 7/10\n",
            "1563/1563 [==============================] - 11s 7ms/step - loss: 1.1308 - categorical_accuracy: 0.6029 - val_loss: 1.2515 - val_categorical_accuracy: 0.5591\n",
            "Epoch 8/10\n",
            "1563/1563 [==============================] - 11s 7ms/step - loss: 1.0794 - categorical_accuracy: 0.6203 - val_loss: 1.2495 - val_categorical_accuracy: 0.5588\n",
            "Epoch 9/10\n",
            "1563/1563 [==============================] - 11s 7ms/step - loss: 1.0307 - categorical_accuracy: 0.6355 - val_loss: 1.2504 - val_categorical_accuracy: 0.5627\n",
            "Epoch 10/10\n",
            "1563/1563 [==============================] - 11s 7ms/step - loss: 0.9866 - categorical_accuracy: 0.6530 - val_loss: 1.2270 - val_categorical_accuracy: 0.5677\n"
          ]
        }
      ]
    },
    {
      "cell_type": "markdown",
      "metadata": {
        "id": "8eUjqMyzXrgh"
      },
      "source": [
        "Comparison between student model trained from the teacher and model trained from scratch"
      ]
    },
    {
      "cell_type": "code",
      "metadata": {
        "colab": {
          "base_uri": "https://localhost:8080/",
          "height": 301
        },
        "id": "pEWj2RMkXq0M",
        "outputId": "17dc008f-5494-4dae-9952-88fbb2db7351"
      },
      "source": [
        "import matplotlib.pyplot as plt\n",
        "\n",
        "plt.plot(history_d.history['val_categorical_accuracy'], label='val_categorical_accuracy distilled')\n",
        "plt.plot(history_s.history['val_categorical_accuracy'], label = 'val_categorical_accuracy base')\n",
        "plt.xlabel('Epoch')\n",
        "plt.ylabel('Accuracy')\n",
        "plt.ylim([0, 0.6])\n",
        "plt.legend(loc='lower right')"
      ],
      "execution_count": 44,
      "outputs": [
        {
          "output_type": "execute_result",
          "data": {
            "text/plain": [
              "<matplotlib.legend.Legend at 0x7f7721901810>"
            ]
          },
          "metadata": {},
          "execution_count": 44
        },
        {
          "output_type": "display_data",
          "data": {
            "image/png": "[encoded data removed]",
            "text/plain": [
              "<Figure size 432x288 with 1 Axes>"
            ]
          },
          "metadata": {
            "needs_background": "light"
          }
        }
      ]
    },
    {
      "cell_type": "code",
      "metadata": {
        "colab": {
          "base_uri": "https://localhost:8080/",
          "height": 301
        },
        "id": "bDZb7eu4XqPC",
        "outputId": "48251b33-1bd1-42a4-a13b-0dda39507238"
      },
      "source": [
        "plt.plot(history_d.history['val_student_loss'], label='val_loss distilled')\n",
        "plt.plot(history_s.history['val_loss'], label = 'val_loss base')\n",
        "plt.xlabel('Epoch')\n",
        "plt.ylabel('Loss')\n",
        "plt.ylim([0,2])\n",
        "plt.legend(loc='lower right')"
      ],
      "execution_count": 45,
      "outputs": [
        {
          "output_type": "execute_result",
          "data": {
            "text/plain": [
              "<matplotlib.legend.Legend at 0x7f77218c51d0>"
            ]
          },
          "metadata": {},
          "execution_count": 45
        },
        {
          "output_type": "display_data",
          "data": {
            "image/png": "[encoded data removed]",
            "text/plain": [
              "<Figure size 432x288 with 1 Axes>"
            ]
          },
          "metadata": {
            "needs_background": "light"
          }
        }
      ]
    }
  ]
}