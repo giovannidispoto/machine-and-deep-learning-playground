{
  "nbformat": 4,
  "nbformat_minor": 0,
  "metadata": {
    "colab": {
      "name": "Diabetes.ipynb",
      "provenance": [],
      "collapsed_sections": [],
      "authorship_tag": "ABX9TyM9dWSV41JKj858RVQJe44p",
      "include_colab_link": true
    },
    "kernelspec": {
      "name": "python3",
      "display_name": "Python 3"
    },
    "language_info": {
      "name": "python"
    }
  },
  "cells": [
    {
      "cell_type": "markdown",
      "metadata": {
        "id": "view-in-github",
        "colab_type": "text"
      },
      "source": [
        "<a href=\"https://colab.research.google.com/github/giovannidispoto/machine-and-deep-learning-playground/blob/main/Diabetes.ipynb\" target=\"_parent\"><img src=\"https://colab.research.google.com/assets/colab-badge.svg\" alt=\"Open In Colab\"/></a>"
      ]
    },
    {
      "cell_type": "code",
      "metadata": {
        "colab": {
          "base_uri": "https://localhost:8080/"
        },
        "id": "duBjsvuz3V7-",
        "outputId": "28960160-c23a-452c-a325-ee880f064936"
      },
      "source": [
        "!pip install -U scikit-learn"
      ],
      "execution_count": 1,
      "outputs": [
        {
          "output_type": "stream",
          "name": "stdout",
          "text": [
            "Requirement already satisfied: scikit-learn in /usr/local/lib/python3.7/dist-packages (1.0.1)\n",
            "Requirement already satisfied: scipy>=1.1.0 in /usr/local/lib/python3.7/dist-packages (from scikit-learn) (1.4.1)\n",
            "Requirement already satisfied: numpy>=1.14.6 in /usr/local/lib/python3.7/dist-packages (from scikit-learn) (1.19.5)\n",
            "Requirement already satisfied: threadpoolctl>=2.0.0 in /usr/local/lib/python3.7/dist-packages (from scikit-learn) (3.0.0)\n",
            "Requirement already satisfied: joblib>=0.11 in /usr/local/lib/python3.7/dist-packages (from scikit-learn) (1.1.0)\n"
          ]
        }
      ]
    },
    {
      "cell_type": "code",
      "metadata": {
        "colab": {
          "base_uri": "https://localhost:8080/"
        },
        "id": "qtxWcytyq7G8",
        "outputId": "4f6c3fce-0b36-4a84-a083-e80af532b33f"
      },
      "source": [
        "from google.colab import drive\n",
        "drive.mount('/gdrive')"
      ],
      "execution_count": 2,
      "outputs": [
        {
          "output_type": "stream",
          "name": "stdout",
          "text": [
            "Drive already mounted at /gdrive; to attempt to forcibly remount, call drive.mount(\"/gdrive\", force_remount=True).\n"
          ]
        }
      ]
    },
    {
      "cell_type": "code",
      "metadata": {
        "colab": {
          "base_uri": "https://localhost:8080/"
        },
        "id": "ME4-vDTqrESj",
        "outputId": "677634e5-88bd-4ea3-8be6-40c3ddfbb9b4"
      },
      "source": [
        "!unzip /gdrive/MyDrive/diabetes.zip"
      ],
      "execution_count": 3,
      "outputs": [
        {
          "output_type": "stream",
          "name": "stdout",
          "text": [
            "Archive:  /gdrive/MyDrive/diabetes.zip\n",
            "replace diabetes.csv? [y]es, [n]o, [A]ll, [N]one, [r]ename: N\n"
          ]
        }
      ]
    },
    {
      "cell_type": "code",
      "metadata": {
        "colab": {
          "base_uri": "https://localhost:8080/"
        },
        "id": "WzDCGOdzrOHS",
        "outputId": "372e974b-c7ec-4bba-9a04-800333cd50a8"
      },
      "source": [
        "import pandas as pd\n",
        "import seaborn as sns \n",
        "import numpy as np\n",
        "from sklearn.model_selection import train_test_split\n",
        "import matplotlib.pyplot as plt\n",
        "\n",
        "\n",
        "features = pd.read_csv('diabetes.csv')\n",
        "labels = features['Outcome']\n",
        "\n",
        "features.head()\n",
        "features.size"
      ],
      "execution_count": 4,
      "outputs": [
        {
          "output_type": "execute_result",
          "data": {
            "text/plain": [
              "6912"
            ]
          },
          "metadata": {},
          "execution_count": 4
        }
      ]
    },
    {
      "cell_type": "code",
      "metadata": {
        "colab": {
          "base_uri": "https://localhost:8080/",
          "height": 300
        },
        "id": "TjK7OQqamrNj",
        "outputId": "4a59f809-f5d4-45f8-8080-03228237953e"
      },
      "source": [
        "features.describe()"
      ],
      "execution_count": 5,
      "outputs": [
        {
          "output_type": "execute_result",
          "data": {
            "text/html": [
              "<div>\n",
              "<style scoped>\n",
              "    .dataframe tbody tr th:only-of-type {\n",
              "        vertical-align: middle;\n",
              "    }\n",
              "\n",
              "    .dataframe tbody tr th {\n",
              "        vertical-align: top;\n",
              "    }\n",
              "\n",
              "    .dataframe thead th {\n",
              "        text-align: right;\n",
              "    }\n",
              "</style>\n",
              "<table border=\"1\" class=\"dataframe\">\n",
              "  <thead>\n",
              "    <tr style=\"text-align: right;\">\n",
              "      <th></th>\n",
              "      <th>Pregnancies</th>\n",
              "      <th>Glucose</th>\n",
              "      <th>BloodPressure</th>\n",
              "      <th>SkinThickness</th>\n",
              "      <th>Insulin</th>\n",
              "      <th>BMI</th>\n",
              "      <th>DiabetesPedigreeFunction</th>\n",
              "      <th>Age</th>\n",
              "      <th>Outcome</th>\n",
              "    </tr>\n",
              "  </thead>\n",
              "  <tbody>\n",
              "    <tr>\n",
              "      <th>count</th>\n",
              "      <td>768.000000</td>\n",
              "      <td>768.000000</td>\n",
              "      <td>768.000000</td>\n",
              "      <td>768.000000</td>\n",
              "      <td>768.000000</td>\n",
              "      <td>768.000000</td>\n",
              "      <td>768.000000</td>\n",
              "      <td>768.000000</td>\n",
              "      <td>768.000000</td>\n",
              "    </tr>\n",
              "    <tr>\n",
              "      <th>mean</th>\n",
              "      <td>3.845052</td>\n",
              "      <td>120.894531</td>\n",
              "      <td>69.105469</td>\n",
              "      <td>20.536458</td>\n",
              "      <td>79.799479</td>\n",
              "      <td>31.992578</td>\n",
              "      <td>0.471876</td>\n",
              "      <td>33.240885</td>\n",
              "      <td>0.348958</td>\n",
              "    </tr>\n",
              "    <tr>\n",
              "      <th>std</th>\n",
              "      <td>3.369578</td>\n",
              "      <td>31.972618</td>\n",
              "      <td>19.355807</td>\n",
              "      <td>15.952218</td>\n",
              "      <td>115.244002</td>\n",
              "      <td>7.884160</td>\n",
              "      <td>0.331329</td>\n",
              "      <td>11.760232</td>\n",
              "      <td>0.476951</td>\n",
              "    </tr>\n",
              "    <tr>\n",
              "      <th>min</th>\n",
              "      <td>0.000000</td>\n",
              "      <td>0.000000</td>\n",
              "      <td>0.000000</td>\n",
              "      <td>0.000000</td>\n",
              "      <td>0.000000</td>\n",
              "      <td>0.000000</td>\n",
              "      <td>0.078000</td>\n",
              "      <td>21.000000</td>\n",
              "      <td>0.000000</td>\n",
              "    </tr>\n",
              "    <tr>\n",
              "      <th>25%</th>\n",
              "      <td>1.000000</td>\n",
              "      <td>99.000000</td>\n",
              "      <td>62.000000</td>\n",
              "      <td>0.000000</td>\n",
              "      <td>0.000000</td>\n",
              "      <td>27.300000</td>\n",
              "      <td>0.243750</td>\n",
              "      <td>24.000000</td>\n",
              "      <td>0.000000</td>\n",
              "    </tr>\n",
              "    <tr>\n",
              "      <th>50%</th>\n",
              "      <td>3.000000</td>\n",
              "      <td>117.000000</td>\n",
              "      <td>72.000000</td>\n",
              "      <td>23.000000</td>\n",
              "      <td>30.500000</td>\n",
              "      <td>32.000000</td>\n",
              "      <td>0.372500</td>\n",
              "      <td>29.000000</td>\n",
              "      <td>0.000000</td>\n",
              "    </tr>\n",
              "    <tr>\n",
              "      <th>75%</th>\n",
              "      <td>6.000000</td>\n",
              "      <td>140.250000</td>\n",
              "      <td>80.000000</td>\n",
              "      <td>32.000000</td>\n",
              "      <td>127.250000</td>\n",
              "      <td>36.600000</td>\n",
              "      <td>0.626250</td>\n",
              "      <td>41.000000</td>\n",
              "      <td>1.000000</td>\n",
              "    </tr>\n",
              "    <tr>\n",
              "      <th>max</th>\n",
              "      <td>17.000000</td>\n",
              "      <td>199.000000</td>\n",
              "      <td>122.000000</td>\n",
              "      <td>99.000000</td>\n",
              "      <td>846.000000</td>\n",
              "      <td>67.100000</td>\n",
              "      <td>2.420000</td>\n",
              "      <td>81.000000</td>\n",
              "      <td>1.000000</td>\n",
              "    </tr>\n",
              "  </tbody>\n",
              "</table>\n",
              "</div>"
            ],
            "text/plain": [
              "       Pregnancies     Glucose  ...         Age     Outcome\n",
              "count   768.000000  768.000000  ...  768.000000  768.000000\n",
              "mean      3.845052  120.894531  ...   33.240885    0.348958\n",
              "std       3.369578   31.972618  ...   11.760232    0.476951\n",
              "min       0.000000    0.000000  ...   21.000000    0.000000\n",
              "25%       1.000000   99.000000  ...   24.000000    0.000000\n",
              "50%       3.000000  117.000000  ...   29.000000    0.000000\n",
              "75%       6.000000  140.250000  ...   41.000000    1.000000\n",
              "max      17.000000  199.000000  ...   81.000000    1.000000\n",
              "\n",
              "[8 rows x 9 columns]"
            ]
          },
          "metadata": {},
          "execution_count": 5
        }
      ]
    },
    {
      "cell_type": "markdown",
      "metadata": {
        "id": "2cgV1eoym3PD"
      },
      "source": [
        "Train-Test split + handling missing values with medians"
      ]
    },
    {
      "cell_type": "code",
      "metadata": {
        "colab": {
          "base_uri": "https://localhost:8080/",
          "height": 562
        },
        "id": "R5IyAqkDm1pB",
        "outputId": "2dad63d2-863f-497e-e080-fd826995e573"
      },
      "source": [
        "train, test = train_test_split(features, test_size=0.25, random_state=1234, shuffle=True, stratify=labels)\n",
        "train_outcome = train.Outcome\n",
        "train_features = train.drop(columns=['Outcome'])\n",
        "\n",
        "# Subtracting one in order to have -1 in missing values and having a stronger indicator for that. \n",
        "train_features = train_features.replace(0,train_features['Insulin'].median())\n",
        "train_features = train_features.replace(0,train_features['SkinThickness'].median())\n",
        "train_features = train_features.replace(0,train_features['BMI'].median())\n",
        "train_features= train_features.replace(0,train_features['BloodPressure'].median())\n",
        "train_features = train_features.replace(0,train_features['Glucose'].median())\n",
        "\n",
        "\n",
        "test_outcome = test.Outcome\n",
        "test_features = test.drop(columns=['Outcome'])\n",
        "\n",
        "test_features = test_features.replace(0,test_features['Insulin'].median())\n",
        "test_features = test_features.replace(0,test_features['SkinThickness'].median())\n",
        "test_features = test_features.replace(0,test_features['BMI'].median())\n",
        "test_features = test_features.replace(0,test_features['BloodPressure'].median())\n",
        "test_features = test_features.replace(0,test_features['Glucose'].median())\n",
        "\n",
        "#plot histogram train-test\n",
        "train.hist(column='Outcome', bins=3)\n",
        "plt.title(\"Train label hist\")\n",
        "\n",
        "test.hist(column='Outcome', bins=3)\n",
        "plt.title(\"Test label hist\")"
      ],
      "execution_count": 6,
      "outputs": [
        {
          "output_type": "execute_result",
          "data": {
            "text/plain": [
              "Text(0.5, 1.0, 'Test label hist')"
            ]
          },
          "metadata": {},
          "execution_count": 6
        },
        {
          "output_type": "display_data",
          "data": {
            "image/png": "[encoded data removed]",
            "text/plain": [
              "<Figure size 432x288 with 1 Axes>"
            ]
          },
          "metadata": {
            "needs_background": "light"
          }
        },
        {
          "output_type": "display_data",
          "data": {
            "image/png": "[encoded data removed]",
            "text/plain": [
              "<Figure size 432x288 with 1 Axes>"
            ]
          },
          "metadata": {
            "needs_background": "light"
          }
        }
      ]
    },
    {
      "cell_type": "code",
      "metadata": {
        "colab": {
          "base_uri": "https://localhost:8080/",
          "height": 300
        },
        "id": "nSWgqqX2rbJ2",
        "outputId": "65f7325b-8fc9-4704-e6cf-d834dc012342"
      },
      "source": [
        "train_features.describe()"
      ],
      "execution_count": 7,
      "outputs": [
        {
          "output_type": "execute_result",
          "data": {
            "text/html": [
              "<div>\n",
              "<style scoped>\n",
              "    .dataframe tbody tr th:only-of-type {\n",
              "        vertical-align: middle;\n",
              "    }\n",
              "\n",
              "    .dataframe tbody tr th {\n",
              "        vertical-align: top;\n",
              "    }\n",
              "\n",
              "    .dataframe thead th {\n",
              "        text-align: right;\n",
              "    }\n",
              "</style>\n",
              "<table border=\"1\" class=\"dataframe\">\n",
              "  <thead>\n",
              "    <tr style=\"text-align: right;\">\n",
              "      <th></th>\n",
              "      <th>Pregnancies</th>\n",
              "      <th>Glucose</th>\n",
              "      <th>BloodPressure</th>\n",
              "      <th>SkinThickness</th>\n",
              "      <th>Insulin</th>\n",
              "      <th>BMI</th>\n",
              "      <th>DiabetesPedigreeFunction</th>\n",
              "      <th>Age</th>\n",
              "    </tr>\n",
              "  </thead>\n",
              "  <tbody>\n",
              "    <tr>\n",
              "      <th>count</th>\n",
              "      <td>576.000000</td>\n",
              "      <td>576.000000</td>\n",
              "      <td>576.000000</td>\n",
              "      <td>576.000000</td>\n",
              "      <td>576.000000</td>\n",
              "      <td>576.000000</td>\n",
              "      <td>576.000000</td>\n",
              "      <td>576.000000</td>\n",
              "    </tr>\n",
              "    <tr>\n",
              "      <th>mean</th>\n",
              "      <td>6.985243</td>\n",
              "      <td>120.330729</td>\n",
              "      <td>70.026910</td>\n",
              "      <td>27.252604</td>\n",
              "      <td>88.478299</td>\n",
              "      <td>32.160243</td>\n",
              "      <td>0.485181</td>\n",
              "      <td>33.493056</td>\n",
              "    </tr>\n",
              "    <tr>\n",
              "      <th>std</th>\n",
              "      <td>6.944266</td>\n",
              "      <td>31.471954</td>\n",
              "      <td>16.556797</td>\n",
              "      <td>9.557150</td>\n",
              "      <td>105.226736</td>\n",
              "      <td>6.997885</td>\n",
              "      <td>0.346874</td>\n",
              "      <td>11.938099</td>\n",
              "    </tr>\n",
              "    <tr>\n",
              "      <th>min</th>\n",
              "      <td>1.000000</td>\n",
              "      <td>22.500000</td>\n",
              "      <td>22.500000</td>\n",
              "      <td>7.000000</td>\n",
              "      <td>14.000000</td>\n",
              "      <td>18.200000</td>\n",
              "      <td>0.078000</td>\n",
              "      <td>21.000000</td>\n",
              "    </tr>\n",
              "    <tr>\n",
              "      <th>25%</th>\n",
              "      <td>2.000000</td>\n",
              "      <td>99.000000</td>\n",
              "      <td>64.000000</td>\n",
              "      <td>22.500000</td>\n",
              "      <td>22.500000</td>\n",
              "      <td>27.100000</td>\n",
              "      <td>0.249000</td>\n",
              "      <td>24.000000</td>\n",
              "    </tr>\n",
              "    <tr>\n",
              "      <th>50%</th>\n",
              "      <td>4.500000</td>\n",
              "      <td>116.000000</td>\n",
              "      <td>72.000000</td>\n",
              "      <td>22.750000</td>\n",
              "      <td>22.750000</td>\n",
              "      <td>32.000000</td>\n",
              "      <td>0.384000</td>\n",
              "      <td>29.000000</td>\n",
              "    </tr>\n",
              "    <tr>\n",
              "      <th>75%</th>\n",
              "      <td>8.000000</td>\n",
              "      <td>139.000000</td>\n",
              "      <td>80.000000</td>\n",
              "      <td>32.000000</td>\n",
              "      <td>125.000000</td>\n",
              "      <td>36.500000</td>\n",
              "      <td>0.645250</td>\n",
              "      <td>41.000000</td>\n",
              "    </tr>\n",
              "    <tr>\n",
              "      <th>max</th>\n",
              "      <td>22.500000</td>\n",
              "      <td>199.000000</td>\n",
              "      <td>122.000000</td>\n",
              "      <td>99.000000</td>\n",
              "      <td>846.000000</td>\n",
              "      <td>67.100000</td>\n",
              "      <td>2.420000</td>\n",
              "      <td>72.000000</td>\n",
              "    </tr>\n",
              "  </tbody>\n",
              "</table>\n",
              "</div>"
            ],
            "text/plain": [
              "       Pregnancies     Glucose  ...  DiabetesPedigreeFunction         Age\n",
              "count   576.000000  576.000000  ...                576.000000  576.000000\n",
              "mean      6.985243  120.330729  ...                  0.485181   33.493056\n",
              "std       6.944266   31.471954  ...                  0.346874   11.938099\n",
              "min       1.000000   22.500000  ...                  0.078000   21.000000\n",
              "25%       2.000000   99.000000  ...                  0.249000   24.000000\n",
              "50%       4.500000  116.000000  ...                  0.384000   29.000000\n",
              "75%       8.000000  139.000000  ...                  0.645250   41.000000\n",
              "max      22.500000  199.000000  ...                  2.420000   72.000000\n",
              "\n",
              "[8 rows x 8 columns]"
            ]
          },
          "metadata": {},
          "execution_count": 7
        }
      ]
    },
    {
      "cell_type": "markdown",
      "metadata": {
        "id": "Gymxr5V-62WF"
      },
      "source": [
        "\n",
        "# Plotting the features\n",
        "\n"
      ]
    },
    {
      "cell_type": "code",
      "metadata": {
        "colab": {
          "base_uri": "https://localhost:8080/",
          "height": 1000
        },
        "id": "3DRrXfjTn8qW",
        "outputId": "bdbbb37a-9791-4ed9-b3a0-2a5df2293009"
      },
      "source": [
        "for column in train_features.columns:\n",
        "  train.hist(column=column)"
      ],
      "execution_count": 8,
      "outputs": [
        {
          "output_type": "display_data",
          "data": {
            "image/png": "[encoded data removed]",
            "text/plain": [
              "<Figure size 432x288 with 1 Axes>"
            ]
          },
          "metadata": {
            "needs_background": "light"
          }
        },
        {
          "output_type": "display_data",
          "data": {
            "image/png": "[encoded data removed]",
            "text/plain": [
              "<Figure size 432x288 with 1 Axes>"
            ]
          },
          "metadata": {
            "needs_background": "light"
          }
        },
        {
          "output_type": "display_data",
          "data": {
            "image/png": "[encoded data removed]",
            "text/plain": [
              "<Figure size 432x288 with 1 Axes>"
            ]
          },
          "metadata": {
            "needs_background": "light"
          }
        },
        {
          "output_type": "display_data",
          "data": {
            "image/png": "[encoded data removed]",
            "text/plain": [
              "<Figure size 432x288 with 1 Axes>"
            ]
          },
          "metadata": {
            "needs_background": "light"
          }
        },
        {
          "output_type": "display_data",
          "data": {
            "image/png": "[encoded data removed]",
            "text/plain": [
              "<Figure size 432x288 with 1 Axes>"
            ]
          },
          "metadata": {
            "needs_background": "light"
          }
        },
        {
          "output_type": "display_data",
          "data": {
            "image/png": "[encoded data removed]",
            "text/plain": [
              "<Figure size 432x288 with 1 Axes>"
            ]
          },
          "metadata": {
            "needs_background": "light"
          }
        },
        {
          "output_type": "display_data",
          "data": {
            "image/png": "[encoded data removed]",
            "text/plain": [
              "<Figure size 432x288 with 1 Axes>"
            ]
          },
          "metadata": {
            "needs_background": "light"
          }
        },
        {
          "output_type": "display_data",
          "data": {
            "image/png": "[encoded data removed]",
            "text/plain": [
              "<Figure size 432x288 with 1 Axes>"
            ]
          },
          "metadata": {
            "needs_background": "light"
          }
        }
      ]
    },
    {
      "cell_type": "code",
      "metadata": {
        "colab": {
          "base_uri": "https://localhost:8080/",
          "height": 282
        },
        "id": "YvT96PSKvg-P",
        "outputId": "c756a2db-f7d8-4143-fb74-f98d03741101"
      },
      "source": [
        "import seaborn as sns\n",
        "sns.boxplot(data = train_features, palette='Set2', orient='h')"
      ],
      "execution_count": 9,
      "outputs": [
        {
          "output_type": "execute_result",
          "data": {
            "text/plain": [
              "<matplotlib.axes._subplots.AxesSubplot at 0x7f070aa282d0>"
            ]
          },
          "metadata": {},
          "execution_count": 9
        },
        {
          "output_type": "display_data",
          "data": {
            "image/png": "[encoded data removed]",
            "text/plain": [
              "<Figure size 432x288 with 1 Axes>"
            ]
          },
          "metadata": {
            "needs_background": "light"
          }
        }
      ]
    },
    {
      "cell_type": "code",
      "metadata": {
        "colab": {
          "base_uri": "https://localhost:8080/"
        },
        "id": "YBlhlg4YpgtV",
        "outputId": "837c7c61-626d-46c6-c536-5c33d2d074eb"
      },
      "source": [
        "\"Training a Baseline Model\"\n",
        "from sklearn.svm import SVC\n",
        "svclassifier = SVC(random_state=1234)\n",
        "svclassifier.fit(train_features,train_outcome)"
      ],
      "execution_count": 10,
      "outputs": [
        {
          "output_type": "execute_result",
          "data": {
            "text/plain": [
              "SVC(random_state=1234)"
            ]
          },
          "metadata": {},
          "execution_count": 10
        }
      ]
    },
    {
      "cell_type": "code",
      "metadata": {
        "colab": {
          "base_uri": "https://localhost:8080/",
          "height": 334
        },
        "id": "ZCpc8NDnptg1",
        "outputId": "98be5b64-f9e6-4449-a2be-0d8c0dbdabc3"
      },
      "source": [
        "from sklearn.metrics import plot_confusion_matrix\n",
        "plot_confusion_matrix(svclassifier, test_features , test_outcome, normalize='true')  \n",
        "plt.show() "
      ],
      "execution_count": 11,
      "outputs": [
        {
          "output_type": "stream",
          "name": "stderr",
          "text": [
            "/usr/local/lib/python3.7/dist-packages/sklearn/utils/deprecation.py:87: FutureWarning: Function plot_confusion_matrix is deprecated; Function `plot_confusion_matrix` is deprecated in 1.0 and will be removed in 1.2. Use one of the class methods: ConfusionMatrixDisplay.from_predictions or ConfusionMatrixDisplay.from_estimator.\n",
            "  warnings.warn(msg, category=FutureWarning)\n"
          ]
        },
        {
          "output_type": "display_data",
          "data": {
            "image/png": "[encoded data removed]",
            "text/plain": [
              "<Figure size 432x288 with 2 Axes>"
            ]
          },
          "metadata": {
            "needs_background": "light"
          }
        }
      ]
    },
    {
      "cell_type": "code",
      "metadata": {
        "colab": {
          "base_uri": "https://localhost:8080/",
          "height": 458
        },
        "id": "wWWm3yC68Ccc",
        "outputId": "83285bf4-9a49-4c87-878f-8182edbbc0f1"
      },
      "source": [
        "# 1. Perform z-scoring for outlier removal\n",
        "from scipy.stats import zscore\n",
        "import numpy as np\n",
        "\n",
        "feature_list = train_features.columns.tolist()\n",
        "print('Train subjects before outlier removal: ' + str(train_features.shape))\n",
        "\n",
        "# apply zscore\n",
        "zscore_features = train_features.apply(zscore, axis=0)\n",
        "\n",
        "# select all those values with zscore < -+ 3 and discard outliers \n",
        "abs_zscores = np.abs(zscore_features)\n",
        "filtered_entries = (abs_zscores < 3).all(axis=1)\n",
        "\n",
        "train_features = train_features[filtered_entries]\n",
        "train_outcome = train_outcome[filtered_entries]\n",
        "\n",
        "print('Train subjects after outlier removal: ' + str(train_features.shape))\n",
        "\n",
        "display(train_features)"
      ],
      "execution_count": 12,
      "outputs": [
        {
          "output_type": "stream",
          "name": "stdout",
          "text": [
            "Train subjects before outlier removal: (576, 8)\n",
            "Train subjects after outlier removal: (545, 8)\n"
          ]
        },
        {
          "output_type": "display_data",
          "data": {
            "text/html": [
              "<div>\n",
              "<style scoped>\n",
              "    .dataframe tbody tr th:only-of-type {\n",
              "        vertical-align: middle;\n",
              "    }\n",
              "\n",
              "    .dataframe tbody tr th {\n",
              "        vertical-align: top;\n",
              "    }\n",
              "\n",
              "    .dataframe thead th {\n",
              "        text-align: right;\n",
              "    }\n",
              "</style>\n",
              "<table border=\"1\" class=\"dataframe\">\n",
              "  <thead>\n",
              "    <tr style=\"text-align: right;\">\n",
              "      <th></th>\n",
              "      <th>Pregnancies</th>\n",
              "      <th>Glucose</th>\n",
              "      <th>BloodPressure</th>\n",
              "      <th>SkinThickness</th>\n",
              "      <th>Insulin</th>\n",
              "      <th>BMI</th>\n",
              "      <th>DiabetesPedigreeFunction</th>\n",
              "      <th>Age</th>\n",
              "    </tr>\n",
              "  </thead>\n",
              "  <tbody>\n",
              "    <tr>\n",
              "      <th>92</th>\n",
              "      <td>7.0</td>\n",
              "      <td>81.0</td>\n",
              "      <td>78.0</td>\n",
              "      <td>40.0</td>\n",
              "      <td>48.0</td>\n",
              "      <td>46.7</td>\n",
              "      <td>0.261</td>\n",
              "      <td>42</td>\n",
              "    </tr>\n",
              "    <tr>\n",
              "      <th>155</th>\n",
              "      <td>7.0</td>\n",
              "      <td>152.0</td>\n",
              "      <td>88.0</td>\n",
              "      <td>44.0</td>\n",
              "      <td>22.5</td>\n",
              "      <td>50.0</td>\n",
              "      <td>0.337</td>\n",
              "      <td>36</td>\n",
              "    </tr>\n",
              "    <tr>\n",
              "      <th>276</th>\n",
              "      <td>7.0</td>\n",
              "      <td>106.0</td>\n",
              "      <td>60.0</td>\n",
              "      <td>24.0</td>\n",
              "      <td>22.5</td>\n",
              "      <td>26.5</td>\n",
              "      <td>0.296</td>\n",
              "      <td>29</td>\n",
              "    </tr>\n",
              "    <tr>\n",
              "      <th>16</th>\n",
              "      <td>22.5</td>\n",
              "      <td>118.0</td>\n",
              "      <td>84.0</td>\n",
              "      <td>47.0</td>\n",
              "      <td>230.0</td>\n",
              "      <td>45.8</td>\n",
              "      <td>0.551</td>\n",
              "      <td>31</td>\n",
              "    </tr>\n",
              "    <tr>\n",
              "      <th>672</th>\n",
              "      <td>10.0</td>\n",
              "      <td>68.0</td>\n",
              "      <td>106.0</td>\n",
              "      <td>23.0</td>\n",
              "      <td>49.0</td>\n",
              "      <td>35.5</td>\n",
              "      <td>0.285</td>\n",
              "      <td>47</td>\n",
              "    </tr>\n",
              "    <tr>\n",
              "      <th>...</th>\n",
              "      <td>...</td>\n",
              "      <td>...</td>\n",
              "      <td>...</td>\n",
              "      <td>...</td>\n",
              "      <td>...</td>\n",
              "      <td>...</td>\n",
              "      <td>...</td>\n",
              "      <td>...</td>\n",
              "    </tr>\n",
              "    <tr>\n",
              "      <th>574</th>\n",
              "      <td>1.0</td>\n",
              "      <td>143.0</td>\n",
              "      <td>86.0</td>\n",
              "      <td>30.0</td>\n",
              "      <td>330.0</td>\n",
              "      <td>30.1</td>\n",
              "      <td>0.892</td>\n",
              "      <td>23</td>\n",
              "    </tr>\n",
              "    <tr>\n",
              "      <th>298</th>\n",
              "      <td>14.0</td>\n",
              "      <td>100.0</td>\n",
              "      <td>78.0</td>\n",
              "      <td>25.0</td>\n",
              "      <td>184.0</td>\n",
              "      <td>36.6</td>\n",
              "      <td>0.412</td>\n",
              "      <td>46</td>\n",
              "    </tr>\n",
              "    <tr>\n",
              "      <th>223</th>\n",
              "      <td>7.0</td>\n",
              "      <td>142.0</td>\n",
              "      <td>60.0</td>\n",
              "      <td>33.0</td>\n",
              "      <td>190.0</td>\n",
              "      <td>28.8</td>\n",
              "      <td>0.687</td>\n",
              "      <td>61</td>\n",
              "    </tr>\n",
              "    <tr>\n",
              "      <th>36</th>\n",
              "      <td>11.0</td>\n",
              "      <td>138.0</td>\n",
              "      <td>76.0</td>\n",
              "      <td>22.5</td>\n",
              "      <td>22.5</td>\n",
              "      <td>33.2</td>\n",
              "      <td>0.420</td>\n",
              "      <td>35</td>\n",
              "    </tr>\n",
              "    <tr>\n",
              "      <th>457</th>\n",
              "      <td>5.0</td>\n",
              "      <td>86.0</td>\n",
              "      <td>68.0</td>\n",
              "      <td>28.0</td>\n",
              "      <td>71.0</td>\n",
              "      <td>30.2</td>\n",
              "      <td>0.364</td>\n",
              "      <td>24</td>\n",
              "    </tr>\n",
              "  </tbody>\n",
              "</table>\n",
              "<p>545 rows × 8 columns</p>\n",
              "</div>"
            ],
            "text/plain": [
              "     Pregnancies  Glucose  BloodPressure  ...   BMI  DiabetesPedigreeFunction  Age\n",
              "92           7.0     81.0           78.0  ...  46.7                     0.261   42\n",
              "155          7.0    152.0           88.0  ...  50.0                     0.337   36\n",
              "276          7.0    106.0           60.0  ...  26.5                     0.296   29\n",
              "16          22.5    118.0           84.0  ...  45.8                     0.551   31\n",
              "672         10.0     68.0          106.0  ...  35.5                     0.285   47\n",
              "..           ...      ...            ...  ...   ...                       ...  ...\n",
              "574          1.0    143.0           86.0  ...  30.1                     0.892   23\n",
              "298         14.0    100.0           78.0  ...  36.6                     0.412   46\n",
              "223          7.0    142.0           60.0  ...  28.8                     0.687   61\n",
              "36          11.0    138.0           76.0  ...  33.2                     0.420   35\n",
              "457          5.0     86.0           68.0  ...  30.2                     0.364   24\n",
              "\n",
              "[545 rows x 8 columns]"
            ]
          },
          "metadata": {}
        }
      ]
    },
    {
      "cell_type": "code",
      "metadata": {
        "id": "OPW8cnfv4tFp"
      },
      "source": [
        "# 2. Standarize data with RobustScaler transformation\n",
        "from sklearn.preprocessing import RobustScaler\n",
        "\n",
        "transformer = RobustScaler().fit(train_features)\n",
        "features_list = train_features.columns.tolist()\n",
        "train_features_zscore = transformer.transform(train_features)\n",
        "#Transform the numpy array back to a dataframe\n",
        "train_features = pd.DataFrame(data=train_features_zscore, columns=features_list)\n",
        "\n",
        "# adapt test set\n",
        "transformer_test = RobustScaler().fit(test_features)\n",
        "test_features = transformer_test.transform(test_features)\n",
        "test_features = pd.DataFrame(data=test_features, columns=features_list)"
      ],
      "execution_count": 13,
      "outputs": []
    },
    {
      "cell_type": "code",
      "metadata": {
        "colab": {
          "base_uri": "https://localhost:8080/",
          "height": 1000
        },
        "id": "LlR-_qeRrlad",
        "outputId": "e42c162b-73ea-44be-8adc-f956941b6833"
      },
      "source": [
        "for column in train_features.columns:\n",
        "  train_features.hist(column=column)"
      ],
      "execution_count": 14,
      "outputs": [
        {
          "output_type": "display_data",
          "data": {
            "image/png": "[encoded data removed]",
            "text/plain": [
              "<Figure size 432x288 with 1 Axes>"
            ]
          },
          "metadata": {
            "needs_background": "light"
          }
        },
        {
          "output_type": "display_data",
          "data": {
            "image/png": "[encoded data removed]",
            "text/plain": [
              "<Figure size 432x288 with 1 Axes>"
            ]
          },
          "metadata": {
            "needs_background": "light"
          }
        },
        {
          "output_type": "display_data",
          "data": {
            "image/png": "[encoded data removed]",
            "text/plain": [
              "<Figure size 432x288 with 1 Axes>"
            ]
          },
          "metadata": {
            "needs_background": "light"
          }
        },
        {
          "output_type": "display_data",
          "data": {
            "image/png": "[encoded data removed]",
            "text/plain": [
              "<Figure size 432x288 with 1 Axes>"
            ]
          },
          "metadata": {
            "needs_background": "light"
          }
        },
        {
          "output_type": "display_data",
          "data": {
            "image/png": "[encoded data removed]",
            "text/plain": [
              "<Figure size 432x288 with 1 Axes>"
            ]
          },
          "metadata": {
            "needs_background": "light"
          }
        },
        {
          "output_type": "display_data",
          "data": {
            "image/png": "[encoded data removed]",
            "text/plain": [
              "<Figure size 432x288 with 1 Axes>"
            ]
          },
          "metadata": {
            "needs_background": "light"
          }
        },
        {
          "output_type": "display_data",
          "data": {
            "image/png": "[encoded data removed]",
            "text/plain": [
              "<Figure size 432x288 with 1 Axes>"
            ]
          },
          "metadata": {
            "needs_background": "light"
          }
        },
        {
          "output_type": "display_data",
          "data": {
            "image/png": "[encoded data removed]",
            "text/plain": [
              "<Figure size 432x288 with 1 Axes>"
            ]
          },
          "metadata": {
            "needs_background": "light"
          }
        }
      ]
    },
    {
      "cell_type": "code",
      "metadata": {
        "colab": {
          "base_uri": "https://localhost:8080/"
        },
        "id": "G4a3e_r5ry3c",
        "outputId": "b8e101b4-fb39-45b8-8c83-42f6bbbd2079"
      },
      "source": [
        "\"Training a Baseline Model\"\n",
        "from sklearn.svm import SVC\n",
        "svclassifier = SVC(random_state=1234)\n",
        "svclassifier.fit(train_features,train_outcome)"
      ],
      "execution_count": 15,
      "outputs": [
        {
          "output_type": "execute_result",
          "data": {
            "text/plain": [
              "SVC(random_state=1234)"
            ]
          },
          "metadata": {},
          "execution_count": 15
        }
      ]
    },
    {
      "cell_type": "code",
      "metadata": {
        "colab": {
          "base_uri": "https://localhost:8080/",
          "height": 334
        },
        "id": "g343apQXr4rV",
        "outputId": "bc230fc8-647d-469d-888c-79e1ead12f44"
      },
      "source": [
        "from sklearn.metrics import plot_confusion_matrix\n",
        "plot_confusion_matrix(svclassifier, test_features , test_outcome, normalize='true')  \n",
        "plt.show() "
      ],
      "execution_count": 16,
      "outputs": [
        {
          "output_type": "stream",
          "name": "stderr",
          "text": [
            "/usr/local/lib/python3.7/dist-packages/sklearn/utils/deprecation.py:87: FutureWarning: Function plot_confusion_matrix is deprecated; Function `plot_confusion_matrix` is deprecated in 1.0 and will be removed in 1.2. Use one of the class methods: ConfusionMatrixDisplay.from_predictions or ConfusionMatrixDisplay.from_estimator.\n",
            "  warnings.warn(msg, category=FutureWarning)\n"
          ]
        },
        {
          "output_type": "display_data",
          "data": {
            "image/png": "[encoded data removed]",
            "text/plain": [
              "<Figure size 432x288 with 2 Axes>"
            ]
          },
          "metadata": {
            "needs_background": "light"
          }
        }
      ]
    },
    {
      "cell_type": "markdown",
      "metadata": {
        "id": "xbuIVjYasOk7"
      },
      "source": [
        "**Features Selection**"
      ]
    },
    {
      "cell_type": "code",
      "metadata": {
        "colab": {
          "base_uri": "https://localhost:8080/",
          "height": 716
        },
        "id": "SwspqGkxaELs",
        "outputId": "c44d8ed2-238d-4457-83c3-808401233d49"
      },
      "source": [
        "import seaborn as sns\n",
        "\n",
        "plt.figure(figsize=(12,10))  # on this line I just set the size of figure to 12 by 10.\n",
        "p=sns.heatmap(train_features.corr(), annot=True,cmap ='RdYlGn')  # seaborn has very simple solution for heatmap"
      ],
      "execution_count": 17,
      "outputs": [
        {
          "output_type": "display_data",
          "data": {
            "image/png": "[encoded data removed]",
            "text/plain": [
              "<Figure size 864x720 with 2 Axes>"
            ]
          },
          "metadata": {
            "needs_background": "light"
          }
        }
      ]
    },
    {
      "cell_type": "code",
      "metadata": {
        "id": "ReaE7SkHC-Xn"
      },
      "source": [
        "train_features_full = train_features\n",
        "test_features_full = test_features"
      ],
      "execution_count": 18,
      "outputs": []
    },
    {
      "cell_type": "code",
      "metadata": {
        "colab": {
          "base_uri": "https://localhost:8080/"
        },
        "id": "kPO_VzXss5mg",
        "outputId": "777e2702-bb72-463c-e4ee-e0fe48a6b781"
      },
      "source": [
        "#   iii. recursive feature elimination\n",
        "from sklearn.linear_model import LogisticRegression\n",
        "from sklearn.model_selection import StratifiedKFold\n",
        "from sklearn.feature_selection import RFECV\n",
        "from sklearn.datasets import make_classification\n",
        "\n",
        "logistic = LogisticRegression(random_state=1234)\n",
        "min_features_to_select = 1\n",
        "\n",
        "rfecv = RFECV(estimator=logistic, step=1, cv=StratifiedKFold(3),\n",
        "              scoring='balanced_accuracy',\n",
        "              min_features_to_select=min_features_to_select)\n",
        "\n",
        "rfecv.fit(train_features, train_outcome)\n",
        "\n",
        "train_features = train_features.iloc[:, rfecv.support_]\n",
        "\n",
        "test_features = test_features.drop(columns = list(set(test_features.columns) - set(train_features.columns)))\n",
        "print(\"Survived: \", list(train_features.columns))"
      ],
      "execution_count": 19,
      "outputs": [
        {
          "output_type": "stream",
          "name": "stdout",
          "text": [
            "Survived:  ['Glucose', 'BloodPressure', 'SkinThickness', 'Insulin', 'BMI', 'DiabetesPedigreeFunction', 'Age']\n"
          ]
        },
        {
          "output_type": "stream",
          "name": "stderr",
          "text": [
            "/usr/local/lib/python3.7/dist-packages/sklearn/base.py:446: UserWarning: X does not have valid feature names, but RFECV was fitted with feature names\n",
            "  \"X does not have valid feature names, but\"\n"
          ]
        }
      ]
    },
    {
      "cell_type": "markdown",
      "metadata": {
        "id": "Fs6aJQGWcotD"
      },
      "source": [
        "Now let's see a LogisticRegression with LASSO which features selects"
      ]
    },
    {
      "cell_type": "code",
      "metadata": {
        "colab": {
          "base_uri": "https://localhost:8080/"
        },
        "id": "xRKuDo9ccoVz",
        "outputId": "9c9561d6-1db4-4e40-eea6-01c9054d4159"
      },
      "source": [
        "from sklearn.linear_model import LogisticRegression\n",
        "\n",
        "lr = LogisticRegression(penalty='l1', C = 1/0.1, random_state=1234, class_weight='balanced', solver='liblinear')\n",
        "lr.fit(train_features_full, train_outcome)"
      ],
      "execution_count": 20,
      "outputs": [
        {
          "output_type": "execute_result",
          "data": {
            "text/plain": [
              "LogisticRegression(C=10.0, class_weight='balanced', penalty='l1',\n",
              "                   random_state=1234, solver='liblinear')"
            ]
          },
          "metadata": {},
          "execution_count": 20
        }
      ]
    },
    {
      "cell_type": "code",
      "metadata": {
        "colab": {
          "base_uri": "https://localhost:8080/"
        },
        "id": "iJN3URO7dXzg",
        "outputId": "46b14970-6e07-403d-95d3-b72e2861d9a6"
      },
      "source": [
        "for i, feature in enumerate(list(train_features_full.columns)):\n",
        "  print(\"Feature \", feature, \" scores \", lr.coef_[0][i-1])"
      ],
      "execution_count": 21,
      "outputs": [
        {
          "output_type": "stream",
          "name": "stdout",
          "text": [
            "Feature  Pregnancies  scores  0.42284454428538865\n",
            "Feature  Glucose  scores  0.030707436720930875\n",
            "Feature  BloodPressure  scores  1.5397146124822232\n",
            "Feature  SkinThickness  scores  -0.2178801158461593\n",
            "Feature  Insulin  scores  0.005563232543204985\n",
            "Feature  BMI  scores  -0.18144040904130282\n",
            "Feature  DiabetesPedigreeFunction  scores  0.9543138132086656\n",
            "Feature  Age  scores  0.5482123173703317\n"
          ]
        }
      ]
    },
    {
      "cell_type": "markdown",
      "metadata": {
        "id": "3YlW7YuvnSTc"
      },
      "source": [
        "Trying to fit model using selected features"
      ]
    },
    {
      "cell_type": "code",
      "metadata": {
        "colab": {
          "base_uri": "https://localhost:8080/",
          "height": 282
        },
        "id": "2T4dIQCRJmDQ",
        "outputId": "16f0c559-c5d7-4475-8f4f-746ae9a36c26"
      },
      "source": [
        "sns.boxplot(data = train_features, palette='Set2', orient='h')"
      ],
      "execution_count": 22,
      "outputs": [
        {
          "output_type": "execute_result",
          "data": {
            "text/plain": [
              "<matplotlib.axes._subplots.AxesSubplot at 0x7f070adc1f50>"
            ]
          },
          "metadata": {},
          "execution_count": 22
        },
        {
          "output_type": "display_data",
          "data": {
            "image/png": "[encoded data removed]",
            "text/plain": [
              "<Figure size 432x288 with 1 Axes>"
            ]
          },
          "metadata": {
            "needs_background": "light"
          }
        }
      ]
    },
    {
      "cell_type": "markdown",
      "metadata": {
        "id": "ECRiVtrgiuPr"
      },
      "source": [
        "Trying to fit the model with first set of features gived by wrapper method"
      ]
    },
    {
      "cell_type": "code",
      "metadata": {
        "colab": {
          "base_uri": "https://localhost:8080/"
        },
        "id": "0P8kS6t2Zp9v",
        "outputId": "0b928282-a249-4f7c-e66c-ab523360dccf"
      },
      "source": [
        "\"Training a Baseline Model\"\n",
        "from sklearn.svm import SVC\n",
        "svclassifier = SVC(random_state=1234)\n",
        "svclassifier.fit(train_features,train_outcome)"
      ],
      "execution_count": 23,
      "outputs": [
        {
          "output_type": "execute_result",
          "data": {
            "text/plain": [
              "SVC(random_state=1234)"
            ]
          },
          "metadata": {},
          "execution_count": 23
        }
      ]
    },
    {
      "cell_type": "code",
      "metadata": {
        "colab": {
          "base_uri": "https://localhost:8080/",
          "height": 334
        },
        "id": "qudSSVlcZurq",
        "outputId": "5e81bfb2-36dd-4173-a790-c58772d227e9"
      },
      "source": [
        "from sklearn.metrics import plot_confusion_matrix\n",
        "plot_confusion_matrix(svclassifier, test_features , test_outcome, normalize='true')  \n",
        "plt.show() "
      ],
      "execution_count": 24,
      "outputs": [
        {
          "output_type": "stream",
          "name": "stderr",
          "text": [
            "/usr/local/lib/python3.7/dist-packages/sklearn/utils/deprecation.py:87: FutureWarning: Function plot_confusion_matrix is deprecated; Function `plot_confusion_matrix` is deprecated in 1.0 and will be removed in 1.2. Use one of the class methods: ConfusionMatrixDisplay.from_predictions or ConfusionMatrixDisplay.from_estimator.\n",
            "  warnings.warn(msg, category=FutureWarning)\n"
          ]
        },
        {
          "output_type": "display_data",
          "data": {
            "image/png": "[encoded data removed]",
            "text/plain": [
              "<Figure size 432x288 with 2 Axes>"
            ]
          },
          "metadata": {
            "needs_background": "light"
          }
        }
      ]
    },
    {
      "cell_type": "code",
      "metadata": {
        "colab": {
          "base_uri": "https://localhost:8080/"
        },
        "id": "vz5xgPTAjBAI",
        "outputId": "d183d955-d0ad-4aae-d78d-4027097ed78b"
      },
      "source": [
        "\"Training a Baseline Model\"\n",
        "from sklearn.svm import SVC\n",
        "svclassifier = SVC(random_state=1234)\n",
        "svclassifier.fit(train_features_full[[\"Age\", \"BMI\", \"Glucose\"]],train_outcome)"
      ],
      "execution_count": 25,
      "outputs": [
        {
          "output_type": "execute_result",
          "data": {
            "text/plain": [
              "SVC(random_state=1234)"
            ]
          },
          "metadata": {},
          "execution_count": 25
        }
      ]
    },
    {
      "cell_type": "code",
      "metadata": {
        "colab": {
          "base_uri": "https://localhost:8080/",
          "height": 334
        },
        "id": "kFZ1mKDZjB8R",
        "outputId": "0199a4c5-0928-499b-a807-5673955ce6ab"
      },
      "source": [
        "from sklearn.metrics import plot_confusion_matrix\n",
        "plot_confusion_matrix(svclassifier, test_features_full[[\"Age\", \"BMI\", \"Glucose\"]] , test_outcome, normalize='true')  \n",
        "plt.show() "
      ],
      "execution_count": 26,
      "outputs": [
        {
          "output_type": "stream",
          "name": "stderr",
          "text": [
            "/usr/local/lib/python3.7/dist-packages/sklearn/utils/deprecation.py:87: FutureWarning: Function plot_confusion_matrix is deprecated; Function `plot_confusion_matrix` is deprecated in 1.0 and will be removed in 1.2. Use one of the class methods: ConfusionMatrixDisplay.from_predictions or ConfusionMatrixDisplay.from_estimator.\n",
            "  warnings.warn(msg, category=FutureWarning)\n"
          ]
        },
        {
          "output_type": "display_data",
          "data": {
            "image/png": "[encoded data removed]",
            "text/plain": [
              "<Figure size 432x288 with 2 Axes>"
            ]
          },
          "metadata": {
            "needs_background": "light"
          }
        }
      ]
    },
    {
      "cell_type": "markdown",
      "metadata": {
        "id": "64DPhacxD9Gx"
      },
      "source": [
        "Age, BMI and Glucose seems good combination of features"
      ]
    },
    {
      "cell_type": "code",
      "metadata": {
        "id": "gKAGnHXWEUPY"
      },
      "source": [
        "train_features = train_features_full[[\"Age\", \"BMI\", \"Glucose\"]]\n",
        "test_features = test_features_full[[\"Age\", \"BMI\", \"Glucose\"]]\n",
        "                                     "
      ],
      "execution_count": 27,
      "outputs": []
    },
    {
      "cell_type": "code",
      "metadata": {
        "colab": {
          "base_uri": "https://localhost:8080/"
        },
        "id": "8rGT5ZsMcSx8",
        "outputId": "c62db2e8-6562-49ec-be30-1cf5fc8dc52b"
      },
      "source": [
        "\"Training a Baseline Model\"\n",
        "from sklearn.svm import SVC\n",
        "svclassifier = SVC(C=1.0,\n",
        "              kernel='rbf', # linear ‘linear’, ‘poly’, ‘rbf’, ‘sigmoid’, ‘precomputed’\n",
        "              gamma='scale',\n",
        "              coef0=0.0, \n",
        "              shrinking=True,\n",
        "              probability=False,\n",
        "              tol=0.001,\n",
        "              cache_size=200, \n",
        "              class_weight='balanced', # vs balanced\n",
        "              verbose=False,\n",
        "              max_iter=- 1,\n",
        "              decision_function_shape='ovr',\n",
        "              break_ties=False,\n",
        "              random_state=1234)\n",
        "svclassifier.fit(train_features,train_outcome)"
      ],
      "execution_count": 48,
      "outputs": [
        {
          "output_type": "execute_result",
          "data": {
            "text/plain": [
              "SVC(class_weight='balanced', random_state=1234)"
            ]
          },
          "metadata": {},
          "execution_count": 48
        }
      ]
    },
    {
      "cell_type": "code",
      "metadata": {
        "colab": {
          "base_uri": "https://localhost:8080/",
          "height": 334
        },
        "id": "Gtq5MoPNcSft",
        "outputId": "242755c2-21cc-444e-9de4-9d2284759e93"
      },
      "source": [
        "from sklearn.metrics import plot_confusion_matrix\n",
        "plot_confusion_matrix(svclassifier, test_features, test_outcome, normalize='true')  \n",
        "plt.show() "
      ],
      "execution_count": 49,
      "outputs": [
        {
          "output_type": "stream",
          "name": "stderr",
          "text": [
            "/usr/local/lib/python3.7/dist-packages/sklearn/utils/deprecation.py:87: FutureWarning: Function plot_confusion_matrix is deprecated; Function `plot_confusion_matrix` is deprecated in 1.0 and will be removed in 1.2. Use one of the class methods: ConfusionMatrixDisplay.from_predictions or ConfusionMatrixDisplay.from_estimator.\n",
            "  warnings.warn(msg, category=FutureWarning)\n"
          ]
        },
        {
          "output_type": "display_data",
          "data": {
            "image/png": "[encoded data removed]",
            "text/plain": [
              "<Figure size 432x288 with 2 Axes>"
            ]
          },
          "metadata": {
            "needs_background": "light"
          }
        }
      ]
    },
    {
      "cell_type": "code",
      "metadata": {
        "colab": {
          "base_uri": "https://localhost:8080/"
        },
        "id": "9mdqhL4rwAMK",
        "outputId": "855583a6-23e2-44cb-ed55-12f23f0bf04d"
      },
      "source": [
        "print(classification_report(test_outcome, svclassifier.predict(test_features)))"
      ],
      "execution_count": 82,
      "outputs": [
        {
          "output_type": "stream",
          "name": "stdout",
          "text": [
            "              precision    recall  f1-score   support\n",
            "\n",
            "           0       0.88      0.70      0.78       125\n",
            "           1       0.60      0.82      0.69        67\n",
            "\n",
            "    accuracy                           0.74       192\n",
            "   macro avg       0.74      0.76      0.74       192\n",
            "weighted avg       0.78      0.74      0.75       192\n",
            "\n"
          ]
        }
      ]
    },
    {
      "cell_type": "code",
      "metadata": {
        "colab": {
          "base_uri": "https://localhost:8080/"
        },
        "id": "yyKuRBgou28e",
        "outputId": "5075519e-e6e5-4e65-b4a2-2f7a28c93f69"
      },
      "source": [
        "from sklearn.ensemble import RandomForestClassifier\n",
        "\n",
        "randomForest = RandomForestClassifier(random_state=1234, class_weight='balanced', max_depth=100, n_estimators=300)\n",
        "randomForest.fit(train_features, train_outcome)"
      ],
      "execution_count": 30,
      "outputs": [
        {
          "output_type": "execute_result",
          "data": {
            "text/plain": [
              "RandomForestClassifier(class_weight='balanced', max_depth=100, n_estimators=300,\n",
              "                       random_state=1234)"
            ]
          },
          "metadata": {},
          "execution_count": 30
        }
      ]
    },
    {
      "cell_type": "code",
      "metadata": {
        "colab": {
          "base_uri": "https://localhost:8080/",
          "height": 334
        },
        "id": "-QJcoOd7vB-g",
        "outputId": "944da10c-50f5-4677-b560-2eaa56a331b7"
      },
      "source": [
        "from sklearn.metrics import plot_confusion_matrix\n",
        "plot_confusion_matrix(randomForest, test_features, test_outcome, normalize='true')  \n",
        "plt.show() "
      ],
      "execution_count": 31,
      "outputs": [
        {
          "output_type": "stream",
          "name": "stderr",
          "text": [
            "/usr/local/lib/python3.7/dist-packages/sklearn/utils/deprecation.py:87: FutureWarning: Function plot_confusion_matrix is deprecated; Function `plot_confusion_matrix` is deprecated in 1.0 and will be removed in 1.2. Use one of the class methods: ConfusionMatrixDisplay.from_predictions or ConfusionMatrixDisplay.from_estimator.\n",
            "  warnings.warn(msg, category=FutureWarning)\n"
          ]
        },
        {
          "output_type": "display_data",
          "data": {
            "image/png": "[encoded data removed]",
            "text/plain": [
              "<Figure size 432x288 with 2 Axes>"
            ]
          },
          "metadata": {
            "needs_background": "light"
          }
        }
      ]
    },
    {
      "cell_type": "code",
      "metadata": {
        "colab": {
          "base_uri": "https://localhost:8080/"
        },
        "id": "PSzKrFxq5H-C",
        "outputId": "04898ca8-c7a7-479e-cf79-83d320b8a7fe"
      },
      "source": [
        "from sklearn.ensemble import AdaBoostClassifier\n",
        "\n",
        "ada = AdaBoostClassifier(random_state=1234, n_estimators=100)\n",
        "ada.fit(train_features, train_outcome)"
      ],
      "execution_count": 32,
      "outputs": [
        {
          "output_type": "execute_result",
          "data": {
            "text/plain": [
              "AdaBoostClassifier(n_estimators=100, random_state=1234)"
            ]
          },
          "metadata": {},
          "execution_count": 32
        }
      ]
    },
    {
      "cell_type": "code",
      "metadata": {
        "colab": {
          "base_uri": "https://localhost:8080/",
          "height": 334
        },
        "id": "2ZMsu6525P2H",
        "outputId": "45aa908c-407d-4068-9a9b-bc795bcff9cd"
      },
      "source": [
        "from sklearn.metrics import plot_confusion_matrix\n",
        "plot_confusion_matrix(ada, test_features, test_outcome, normalize='true')  \n",
        "plt.show() "
      ],
      "execution_count": 33,
      "outputs": [
        {
          "output_type": "stream",
          "name": "stderr",
          "text": [
            "/usr/local/lib/python3.7/dist-packages/sklearn/utils/deprecation.py:87: FutureWarning: Function plot_confusion_matrix is deprecated; Function `plot_confusion_matrix` is deprecated in 1.0 and will be removed in 1.2. Use one of the class methods: ConfusionMatrixDisplay.from_predictions or ConfusionMatrixDisplay.from_estimator.\n",
            "  warnings.warn(msg, category=FutureWarning)\n"
          ]
        },
        {
          "output_type": "display_data",
          "data": {
            "image/png": "[encoded data removed]",
            "text/plain": [
              "<Figure size 432x288 with 2 Axes>"
            ]
          },
          "metadata": {
            "needs_background": "light"
          }
        }
      ]
    },
    {
      "cell_type": "code",
      "metadata": {
        "colab": {
          "base_uri": "https://localhost:8080/"
        },
        "id": "AXzXmyxfErTC",
        "outputId": "2f6b2364-1fd3-4a7d-b911-8ff376a12178"
      },
      "source": [
        "from sklearn.neighbors import KNeighborsClassifier\n",
        "\n",
        "knn = KNeighborsClassifier(n_neighbors=5)\n",
        "\n",
        "knn.fit(train_features, train_outcome)"
      ],
      "execution_count": 34,
      "outputs": [
        {
          "output_type": "execute_result",
          "data": {
            "text/plain": [
              "KNeighborsClassifier()"
            ]
          },
          "metadata": {},
          "execution_count": 34
        }
      ]
    },
    {
      "cell_type": "code",
      "metadata": {
        "colab": {
          "base_uri": "https://localhost:8080/",
          "height": 334
        },
        "id": "G8iMdq4qFHEr",
        "outputId": "aa969747-474d-495d-a1b6-938b61dfc86d"
      },
      "source": [
        "from sklearn.metrics import plot_confusion_matrix\n",
        "plot_confusion_matrix(knn, test_features, test_outcome, normalize='true')  \n",
        "plt.show() "
      ],
      "execution_count": 35,
      "outputs": [
        {
          "output_type": "stream",
          "name": "stderr",
          "text": [
            "/usr/local/lib/python3.7/dist-packages/sklearn/utils/deprecation.py:87: FutureWarning: Function plot_confusion_matrix is deprecated; Function `plot_confusion_matrix` is deprecated in 1.0 and will be removed in 1.2. Use one of the class methods: ConfusionMatrixDisplay.from_predictions or ConfusionMatrixDisplay.from_estimator.\n",
            "  warnings.warn(msg, category=FutureWarning)\n"
          ]
        },
        {
          "output_type": "display_data",
          "data": {
            "image/png": "[encoded data removed]",
            "text/plain": [
              "<Figure size 432x288 with 2 Axes>"
            ]
          },
          "metadata": {
            "needs_background": "light"
          }
        }
      ]
    },
    {
      "cell_type": "code",
      "metadata": {
        "colab": {
          "base_uri": "https://localhost:8080/"
        },
        "id": "IJZPif52FN3A",
        "outputId": "fcd11084-f722-4b2e-835c-18824363df42"
      },
      "source": [
        "from sklearn.naive_bayes import GaussianNB\n",
        "\n",
        "nb = GaussianNB()\n",
        "\n",
        "nb.fit(train_features, train_outcome)"
      ],
      "execution_count": 36,
      "outputs": [
        {
          "output_type": "execute_result",
          "data": {
            "text/plain": [
              "GaussianNB()"
            ]
          },
          "metadata": {},
          "execution_count": 36
        }
      ]
    },
    {
      "cell_type": "code",
      "metadata": {
        "colab": {
          "base_uri": "https://localhost:8080/",
          "height": 337
        },
        "id": "uSetbCtiFbOD",
        "outputId": "f89fb331-5e5d-477f-ced2-e38da53563eb"
      },
      "source": [
        "from sklearn.metrics import plot_confusion_matrix\n",
        "plot_confusion_matrix(nb, test_features, test_outcome, normalize='true')  \n",
        "plt.show() "
      ],
      "execution_count": 37,
      "outputs": [
        {
          "output_type": "stream",
          "name": "stderr",
          "text": [
            "/usr/local/lib/python3.7/dist-packages/sklearn/utils/deprecation.py:87: FutureWarning: Function plot_confusion_matrix is deprecated; Function `plot_confusion_matrix` is deprecated in 1.0 and will be removed in 1.2. Use one of the class methods: ConfusionMatrixDisplay.from_predictions or ConfusionMatrixDisplay.from_estimator.\n",
            "  warnings.warn(msg, category=FutureWarning)\n"
          ]
        },
        {
          "output_type": "display_data",
          "data": {
            "image/png": "[encoded data removed]",
            "text/plain": [
              "<Figure size 432x288 with 2 Axes>"
            ]
          },
          "metadata": {
            "needs_background": "light"
          }
        }
      ]
    },
    {
      "cell_type": "code",
      "metadata": {
        "colab": {
          "base_uri": "https://localhost:8080/"
        },
        "id": "TLWLYP-VwAXr",
        "outputId": "13788d0f-1b0c-43a6-a58b-15e1b4cd9eb4"
      },
      "source": [
        "from sklearn.metrics import classification_report\n",
        "print(classification_report(test_outcome, svclassifier.predict(test_features)))"
      ],
      "execution_count": 38,
      "outputs": [
        {
          "output_type": "stream",
          "name": "stdout",
          "text": [
            "              precision    recall  f1-score   support\n",
            "\n",
            "           0       0.88      0.70      0.78       125\n",
            "           1       0.60      0.82      0.69        67\n",
            "\n",
            "    accuracy                           0.74       192\n",
            "   macro avg       0.74      0.76      0.74       192\n",
            "weighted avg       0.78      0.74      0.75       192\n",
            "\n"
          ]
        }
      ]
    },
    {
      "cell_type": "code",
      "metadata": {
        "colab": {
          "base_uri": "https://localhost:8080/"
        },
        "id": "5jlqk6dHvHX5",
        "outputId": "93fb603c-63a1-4fa4-9c7a-65b046378112"
      },
      "source": [
        "from sklearn.metrics import classification_report\n",
        "print(classification_report(test_outcome, randomForest.predict(test_features)))"
      ],
      "execution_count": 39,
      "outputs": [
        {
          "output_type": "stream",
          "name": "stdout",
          "text": [
            "              precision    recall  f1-score   support\n",
            "\n",
            "           0       0.82      0.88      0.85       125\n",
            "           1       0.74      0.64      0.69        67\n",
            "\n",
            "    accuracy                           0.80       192\n",
            "   macro avg       0.78      0.76      0.77       192\n",
            "weighted avg       0.79      0.80      0.79       192\n",
            "\n"
          ]
        }
      ]
    },
    {
      "cell_type": "code",
      "metadata": {
        "id": "eLPdoSfK8Y5v",
        "colab": {
          "base_uri": "https://localhost:8080/"
        },
        "outputId": "ce7b299e-7256-458d-ffed-0e91e4684412"
      },
      "source": [
        "from sklearn.metrics import classification_report\n",
        "print(classification_report(test_outcome, ada.predict(test_features)))"
      ],
      "execution_count": 40,
      "outputs": [
        {
          "output_type": "stream",
          "name": "stdout",
          "text": [
            "              precision    recall  f1-score   support\n",
            "\n",
            "           0       0.81      0.78      0.80       125\n",
            "           1       0.62      0.66      0.64        67\n",
            "\n",
            "    accuracy                           0.74       192\n",
            "   macro avg       0.71      0.72      0.72       192\n",
            "weighted avg       0.74      0.74      0.74       192\n",
            "\n"
          ]
        }
      ]
    },
    {
      "cell_type": "markdown",
      "metadata": {
        "id": "wOPYBlyGaVe_"
      },
      "source": [
        "# Hyperparameters Optimization"
      ]
    },
    {
      "cell_type": "markdown",
      "metadata": {
        "id": "s_5LAC8XaoyO"
      },
      "source": [
        "Let's try to do a Random Search in order to find a better model starting from the models that we have considered before like SVM and RandomForest."
      ]
    },
    {
      "cell_type": "code",
      "metadata": {
        "id": "2TqcMg17aY5j",
        "colab": {
          "base_uri": "https://localhost:8080/",
          "height": 682
        },
        "outputId": "06419d73-e62b-42b3-fe54-03f8a916d536"
      },
      "source": [
        "param_grid = [\n",
        "              {'kernel': ['rbf'], \n",
        "               'gamma': [1e-3, 1e-4],\n",
        "               'C': [1, 10, 100, 1000],\n",
        "               'coef0': [0.0, 0.1, 0.5, 1], \n",
        "               'class_weight': ['balanced']},\n",
        "              {'kernel': ['linear'],\n",
        "               'C': [1, 10, 100, 1000], \n",
        "               'class_weight': ['balanced'],\n",
        "               'coef0': [0.0, 0.1, 0.5, 1]},\n",
        "              ]\n",
        "\n",
        "# 2. Crossvalidate model to obtain the best fit \n",
        "from sklearn.model_selection import RandomizedSearchCV\n",
        "from sklearn.model_selection import RepeatedStratifiedKFold\n",
        "\n",
        "cv = RepeatedStratifiedKFold(n_splits=10, n_repeats=3, random_state=1)\n",
        "clf = RandomizedSearchCV(SVC(random_state=1234), param_grid, cv=cv, scoring='f1_macro', random_state=1234)\n",
        "clf.fit(train_features, train_outcome)\n",
        "\n",
        "for param, score in zip(clf.cv_results_['params'], clf.cv_results_['mean_test_score']):\n",
        "    print(param, score)\n",
        "\n",
        "print('Best combination of hyperparameters: ' + str(clf.best_params_))\n",
        "\n",
        "clf_best = SVC(**clf.best_params_, random_state=1234)\n",
        "clf_best.fit(train_features, train_outcome)\n",
        "\n",
        "print(classification_report(test_outcome, clf_best.predict(test_features)))\n",
        "plot_confusion_matrix(clf_best, test_features, test_outcome, normalize='true')  \n",
        "plt.show() "
      ],
      "execution_count": 54,
      "outputs": [
        {
          "output_type": "stream",
          "name": "stdout",
          "text": [
            "{'kernel': 'rbf', 'gamma': 0.001, 'coef0': 0.0, 'class_weight': 'balanced', 'C': 10} 0.7006202213051791\n",
            "{'kernel': 'linear', 'coef0': 0.5, 'class_weight': 'balanced', 'C': 1000} 0.7041961187944926\n",
            "{'kernel': 'rbf', 'gamma': 0.001, 'coef0': 1, 'class_weight': 'balanced', 'C': 10} 0.7006202213051791\n",
            "{'kernel': 'linear', 'coef0': 0.1, 'class_weight': 'balanced', 'C': 100} 0.7041961187944926\n",
            "{'kernel': 'rbf', 'gamma': 0.0001, 'coef0': 0.5, 'class_weight': 'balanced', 'C': 1000} 0.7024948712835072\n",
            "{'kernel': 'linear', 'coef0': 1, 'class_weight': 'balanced', 'C': 100} 0.7041961187944926\n",
            "{'kernel': 'rbf', 'gamma': 0.001, 'coef0': 0.5, 'class_weight': 'balanced', 'C': 1} 0.707219927856773\n",
            "{'kernel': 'rbf', 'gamma': 0.0001, 'coef0': 1, 'class_weight': 'balanced', 'C': 1000} 0.7024948712835072\n",
            "{'kernel': 'rbf', 'gamma': 0.0001, 'coef0': 0.5, 'class_weight': 'balanced', 'C': 10} 0.7080862041967465\n",
            "{'kernel': 'rbf', 'gamma': 0.001, 'coef0': 0.1, 'class_weight': 'balanced', 'C': 100} 0.7023806346750731\n",
            "Best combination of hyperparameters: {'kernel': 'rbf', 'gamma': 0.0001, 'coef0': 0.5, 'class_weight': 'balanced', 'C': 10}\n",
            "              precision    recall  f1-score   support\n",
            "\n",
            "           0       0.84      0.81      0.82       125\n",
            "           1       0.67      0.72      0.69        67\n",
            "\n",
            "    accuracy                           0.78       192\n",
            "   macro avg       0.75      0.76      0.76       192\n",
            "weighted avg       0.78      0.78      0.78       192\n",
            "\n"
          ]
        },
        {
          "output_type": "stream",
          "name": "stderr",
          "text": [
            "/usr/local/lib/python3.7/dist-packages/sklearn/utils/deprecation.py:87: FutureWarning: Function plot_confusion_matrix is deprecated; Function `plot_confusion_matrix` is deprecated in 1.0 and will be removed in 1.2. Use one of the class methods: ConfusionMatrixDisplay.from_predictions or ConfusionMatrixDisplay.from_estimator.\n",
            "  warnings.warn(msg, category=FutureWarning)\n"
          ]
        },
        {
          "output_type": "display_data",
          "data": {
            "image/png": "[encoded data removed]",
            "text/plain": [
              "<Figure size 432x288 with 2 Axes>"
            ]
          },
          "metadata": {
            "needs_background": "light"
          }
        }
      ]
    },
    {
      "cell_type": "code",
      "metadata": {
        "id": "wgqjLDipa-sv",
        "colab": {
          "base_uri": "https://localhost:8080/",
          "height": 681
        },
        "outputId": "3b1515c8-8359-4d8e-bd9c-29183c97b3a5"
      },
      "source": [
        "# 1. Define the values for each hyperparameter\n",
        "param_grid = {\n",
        " 'max_depth': [10, 20, 30, 40, 50, 60, 70, 80, 90, 100, None],\n",
        " 'max_features': ['auto', 'sqrt'],\n",
        " 'min_samples_leaf': [1, 2, 4],\n",
        " 'min_samples_split': [2, 5, 10],\n",
        " 'n_estimators': [200, 400, 600, 800]}\n",
        "\n",
        "# 2. Crossvalidate model to obtain the best fit \n",
        "from sklearn.model_selection import RandomizedSearchCV\n",
        "from sklearn.model_selection import RepeatedStratifiedKFold\n",
        "\n",
        "cv = RepeatedStratifiedKFold(n_splits=10, n_repeats=3, random_state=1)\n",
        "clf_random_forest = RandomizedSearchCV(RandomForestClassifier(class_weight='balanced', random_state=1234), param_grid, cv = cv, scoring='f1_macro', random_state=1234)\n",
        "clf_random_forest.fit(train_features, train_outcome)\n",
        "\n",
        "for param, score in zip(clf_random_forest.cv_results_['params'], clf_random_forest.cv_results_['mean_test_score']):\n",
        "    print(param, score)\n",
        "\n",
        "print('Best combination of hyperparameters: ' + str(clf_random_forest.best_params_))\n",
        "\n",
        "clf_best_random_forest = RandomForestClassifier(**clf_random_forest.best_params_, class_weight='balanced', random_state=1234)\n",
        "clf_best_random_forest.fit(train_features, train_outcome)\n",
        "\n",
        "print(classification_report(test_outcome, clf_best_random_forest.predict(test_features)))\n",
        "plot_confusion_matrix(clf_best_random_forest, test_features, test_outcome, normalize='true')  \n",
        "plt.show() "
      ],
      "execution_count": 55,
      "outputs": [
        {
          "output_type": "stream",
          "name": "stdout",
          "text": [
            "{'n_estimators': 200, 'min_samples_split': 2, 'min_samples_leaf': 4, 'max_features': 'sqrt', 'max_depth': 50} 0.713846656518003\n",
            "{'n_estimators': 200, 'min_samples_split': 10, 'min_samples_leaf': 4, 'max_features': 'sqrt', 'max_depth': 60} 0.7147037250236995\n",
            "{'n_estimators': 600, 'min_samples_split': 5, 'min_samples_leaf': 2, 'max_features': 'sqrt', 'max_depth': None} 0.6943295969650004\n",
            "{'n_estimators': 400, 'min_samples_split': 5, 'min_samples_leaf': 4, 'max_features': 'sqrt', 'max_depth': 40} 0.7062672021539097\n",
            "{'n_estimators': 600, 'min_samples_split': 5, 'min_samples_leaf': 2, 'max_features': 'auto', 'max_depth': 70} 0.6943295969650004\n",
            "{'n_estimators': 200, 'min_samples_split': 2, 'min_samples_leaf': 2, 'max_features': 'sqrt', 'max_depth': 90} 0.6943338248512484\n",
            "{'n_estimators': 400, 'min_samples_split': 2, 'min_samples_leaf': 2, 'max_features': 'sqrt', 'max_depth': 100} 0.6930474240367889\n",
            "{'n_estimators': 800, 'min_samples_split': 10, 'min_samples_leaf': 2, 'max_features': 'sqrt', 'max_depth': 60} 0.7005931405684087\n",
            "{'n_estimators': 400, 'min_samples_split': 10, 'min_samples_leaf': 4, 'max_features': 'auto', 'max_depth': None} 0.7143267610868744\n",
            "{'n_estimators': 400, 'min_samples_split': 5, 'min_samples_leaf': 4, 'max_features': 'sqrt', 'max_depth': 10} 0.708293180429704\n",
            "Best combination of hyperparameters: {'n_estimators': 200, 'min_samples_split': 10, 'min_samples_leaf': 4, 'max_features': 'sqrt', 'max_depth': 60}\n",
            "              precision    recall  f1-score   support\n",
            "\n",
            "           0       0.86      0.77      0.81       125\n",
            "           1       0.64      0.76      0.69        67\n",
            "\n",
            "    accuracy                           0.77       192\n",
            "   macro avg       0.75      0.76      0.75       192\n",
            "weighted avg       0.78      0.77      0.77       192\n",
            "\n"
          ]
        },
        {
          "output_type": "stream",
          "name": "stderr",
          "text": [
            "/usr/local/lib/python3.7/dist-packages/sklearn/utils/deprecation.py:87: FutureWarning: Function plot_confusion_matrix is deprecated; Function `plot_confusion_matrix` is deprecated in 1.0 and will be removed in 1.2. Use one of the class methods: ConfusionMatrixDisplay.from_predictions or ConfusionMatrixDisplay.from_estimator.\n",
            "  warnings.warn(msg, category=FutureWarning)\n"
          ]
        },
        {
          "output_type": "display_data",
          "data": {
            "image/png": "[encoded data removed]",
            "text/plain": [
              "<Figure size 432x288 with 2 Axes>"
            ]
          },
          "metadata": {
            "needs_background": "light"
          }
        }
      ]
    },
    {
      "cell_type": "markdown",
      "metadata": {
        "id": "W1UDSuyzpDJT"
      },
      "source": [
        "Stacking Ensemble between SVM, Random Forest and NaiveBayes"
      ]
    },
    {
      "cell_type": "code",
      "metadata": {
        "id": "J_uGpTwopHv9"
      },
      "source": [
        "from sklearn.ensemble import StackingClassifier\n",
        "\n",
        "\n",
        "def get_stacking():\n",
        "  level0 = list()\n",
        "  level0.append(('svm', SVC(**clf.best_params_, random_state=1234)))\n",
        "  level0.append(('random_forest', RandomForestClassifier(**clf_random_forest.best_params_, class_weight='balanced', random_state=1234)))\n",
        "  level0.append(('NaiveBayes', GaussianNB()))\n",
        "  level1 = LogisticRegression()\n",
        "  model = StackingClassifier(estimators=level0, final_estimator=level1, cv=5)\n",
        "  return model\n",
        "\n",
        "stacking_model = get_stacking()"
      ],
      "execution_count": 78,
      "outputs": []
    },
    {
      "cell_type": "code",
      "metadata": {
        "colab": {
          "base_uri": "https://localhost:8080/"
        },
        "id": "CtmmhEXHqJqo",
        "outputId": "ca4a7330-db50-4c13-da29-380558e70495"
      },
      "source": [
        "from sklearn.model_selection import cross_val_score\n",
        "cv = RepeatedStratifiedKFold(n_splits=10, n_repeats=3, random_state=1234)\n",
        "score = cross_val_score(stacking_model, train_features, train_outcome, scoring='f1_macro', cv=cv, n_jobs=-1, error_score='raise')\n",
        "print(np.mean(score))"
      ],
      "execution_count": 79,
      "outputs": [
        {
          "output_type": "stream",
          "name": "stdout",
          "text": [
            "0.7172187775508154\n"
          ]
        }
      ]
    },
    {
      "cell_type": "code",
      "metadata": {
        "colab": {
          "base_uri": "https://localhost:8080/"
        },
        "id": "nrpauiE2sQaj",
        "outputId": "0d7336f2-0674-4db4-edfb-c9c16c1bd7d4"
      },
      "source": [
        "stacking_model.fit(train_features, train_outcome)"
      ],
      "execution_count": 80,
      "outputs": [
        {
          "output_type": "execute_result",
          "data": {
            "text/plain": [
              "StackingClassifier(cv=5,\n",
              "                   estimators=[('svm',\n",
              "                                SVC(C=10, class_weight='balanced', coef0=0.5,\n",
              "                                    gamma=0.0001, random_state=1234)),\n",
              "                               ('random_forest',\n",
              "                                RandomForestClassifier(class_weight='balanced',\n",
              "                                                       max_depth=60,\n",
              "                                                       max_features='sqrt',\n",
              "                                                       min_samples_leaf=4,\n",
              "                                                       min_samples_split=10,\n",
              "                                                       n_estimators=200,\n",
              "                                                       random_state=1234)),\n",
              "                               ('NaiveBayes', GaussianNB())],\n",
              "                   final_estimator=LogisticRegression())"
            ]
          },
          "metadata": {},
          "execution_count": 80
        }
      ]
    },
    {
      "cell_type": "code",
      "metadata": {
        "colab": {
          "base_uri": "https://localhost:8080/",
          "height": 490
        },
        "id": "F9lRGkMdsYak",
        "outputId": "0aeeec72-c5b3-42ef-c751-6e8e02f571a5"
      },
      "source": [
        "print(classification_report(test_outcome, stacking_model.predict(test_features)))\n",
        "plot_confusion_matrix(stacking_model, test_features, test_outcome, normalize='true')  \n",
        "plt.show() "
      ],
      "execution_count": 81,
      "outputs": [
        {
          "output_type": "stream",
          "name": "stdout",
          "text": [
            "              precision    recall  f1-score   support\n",
            "\n",
            "           0       0.83      0.90      0.86       125\n",
            "           1       0.77      0.66      0.71        67\n",
            "\n",
            "    accuracy                           0.81       192\n",
            "   macro avg       0.80      0.78      0.79       192\n",
            "weighted avg       0.81      0.81      0.81       192\n",
            "\n"
          ]
        },
        {
          "output_type": "stream",
          "name": "stderr",
          "text": [
            "/usr/local/lib/python3.7/dist-packages/sklearn/utils/deprecation.py:87: FutureWarning: Function plot_confusion_matrix is deprecated; Function `plot_confusion_matrix` is deprecated in 1.0 and will be removed in 1.2. Use one of the class methods: ConfusionMatrixDisplay.from_predictions or ConfusionMatrixDisplay.from_estimator.\n",
            "  warnings.warn(msg, category=FutureWarning)\n"
          ]
        },
        {
          "output_type": "display_data",
          "data": {
            "image/png": "[encoded data removed]",
            "text/plain": [
              "<Figure size 432x288 with 2 Axes>"
            ]
          },
          "metadata": {
            "needs_background": "light"
          }
        }
      ]
    },
    {
      "cell_type": "markdown",
      "metadata": {
        "id": "iFKheiUesoJh"
      },
      "source": [
        "As it is possible to see, this ensemble model is more robust than the single models."
      ]
    }
  ]
}