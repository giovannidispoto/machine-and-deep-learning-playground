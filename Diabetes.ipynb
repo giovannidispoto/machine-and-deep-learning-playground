{
  "nbformat": 4,
  "nbformat_minor": 0,
  "metadata": {
    "colab": {
      "name": "Diabetes.ipynb",
      "provenance": [],
      "collapsed_sections": [],
      "authorship_tag": "ABX9TyOfoWCvVvsb42wCHZZ+Owia",
      "include_colab_link": true
    },
    "kernelspec": {
      "name": "python3",
      "display_name": "Python 3"
    },
    "language_info": {
      "name": "python"
    }
  },
  "cells": [
    {
      "cell_type": "markdown",
      "metadata": {
        "id": "view-in-github",
        "colab_type": "text"
      },
      "source": [
        "<a href=\"https://colab.research.google.com/github/giovannidispoto/machine-and-deep-learning-playground/blob/main/Diabetes.ipynb\" target=\"_parent\"><img src=\"https://colab.research.google.com/assets/colab-badge.svg\" alt=\"Open In Colab\"/></a>"
      ]
    },
    {
      "cell_type": "code",
      "metadata": {
        "colab": {
          "base_uri": "https://localhost:8080/"
        },
        "id": "duBjsvuz3V7-",
        "outputId": "64931677-34db-4fd9-839e-0551e164dfcc"
      },
      "source": [
        "!pip install -U scikit-learn"
      ],
      "execution_count": 1,
      "outputs": [
        {
          "output_type": "stream",
          "name": "stdout",
          "text": [
            "Requirement already satisfied: scikit-learn in /usr/local/lib/python3.7/dist-packages (1.0.1)\n",
            "Requirement already satisfied: numpy>=1.14.6 in /usr/local/lib/python3.7/dist-packages (from scikit-learn) (1.19.5)\n",
            "Requirement already satisfied: threadpoolctl>=2.0.0 in /usr/local/lib/python3.7/dist-packages (from scikit-learn) (3.0.0)\n",
            "Requirement already satisfied: joblib>=0.11 in /usr/local/lib/python3.7/dist-packages (from scikit-learn) (1.1.0)\n",
            "Requirement already satisfied: scipy>=1.1.0 in /usr/local/lib/python3.7/dist-packages (from scikit-learn) (1.4.1)\n"
          ]
        }
      ]
    },
    {
      "cell_type": "code",
      "metadata": {
        "colab": {
          "base_uri": "https://localhost:8080/"
        },
        "id": "qtxWcytyq7G8",
        "outputId": "1dafd71f-1c86-496d-8d86-e6f0bdf116f3"
      },
      "source": [
        "from google.colab import drive\n",
        "drive.mount('/gdrive')"
      ],
      "execution_count": 2,
      "outputs": [
        {
          "output_type": "stream",
          "name": "stdout",
          "text": [
            "Mounted at /gdrive\n"
          ]
        }
      ]
    },
    {
      "cell_type": "code",
      "metadata": {
        "colab": {
          "base_uri": "https://localhost:8080/"
        },
        "id": "ME4-vDTqrESj",
        "outputId": "f3b3bedc-d61d-43c1-e06b-838ad37d500a"
      },
      "source": [
        "!unzip /gdrive/MyDrive/diabetes.zip"
      ],
      "execution_count": 3,
      "outputs": [
        {
          "output_type": "stream",
          "name": "stdout",
          "text": [
            "Archive:  /gdrive/MyDrive/diabetes.zip\n",
            "  inflating: diabetes.csv            \n"
          ]
        }
      ]
    },
    {
      "cell_type": "code",
      "metadata": {
        "colab": {
          "base_uri": "https://localhost:8080/",
          "height": 226
        },
        "id": "WzDCGOdzrOHS",
        "outputId": "6a30496a-ee5f-45c4-b257-c934c895c330"
      },
      "source": [
        "import pandas as pd\n",
        "import seaborn as sns \n",
        "import numpy as np\n",
        "from sklearn.model_selection import train_test_split\n",
        "import matplotlib.pyplot as plt\n",
        "\n",
        "\n",
        "features = pd.read_csv('diabetes.csv')\n",
        "labels = features['Outcome']\n",
        "\n",
        "features.head()"
      ],
      "execution_count": 75,
      "outputs": [
        {
          "output_type": "execute_result",
          "data": {
            "text/html": [
              "<div>\n",
              "<style scoped>\n",
              "    .dataframe tbody tr th:only-of-type {\n",
              "        vertical-align: middle;\n",
              "    }\n",
              "\n",
              "    .dataframe tbody tr th {\n",
              "        vertical-align: top;\n",
              "    }\n",
              "\n",
              "    .dataframe thead th {\n",
              "        text-align: right;\n",
              "    }\n",
              "</style>\n",
              "<table border=\"1\" class=\"dataframe\">\n",
              "  <thead>\n",
              "    <tr style=\"text-align: right;\">\n",
              "      <th></th>\n",
              "      <th>Pregnancies</th>\n",
              "      <th>Glucose</th>\n",
              "      <th>BloodPressure</th>\n",
              "      <th>SkinThickness</th>\n",
              "      <th>Insulin</th>\n",
              "      <th>BMI</th>\n",
              "      <th>DiabetesPedigreeFunction</th>\n",
              "      <th>Age</th>\n",
              "      <th>Outcome</th>\n",
              "    </tr>\n",
              "  </thead>\n",
              "  <tbody>\n",
              "    <tr>\n",
              "      <th>0</th>\n",
              "      <td>6</td>\n",
              "      <td>148</td>\n",
              "      <td>72</td>\n",
              "      <td>35</td>\n",
              "      <td>0</td>\n",
              "      <td>33.6</td>\n",
              "      <td>0.627</td>\n",
              "      <td>50</td>\n",
              "      <td>1</td>\n",
              "    </tr>\n",
              "    <tr>\n",
              "      <th>1</th>\n",
              "      <td>1</td>\n",
              "      <td>85</td>\n",
              "      <td>66</td>\n",
              "      <td>29</td>\n",
              "      <td>0</td>\n",
              "      <td>26.6</td>\n",
              "      <td>0.351</td>\n",
              "      <td>31</td>\n",
              "      <td>0</td>\n",
              "    </tr>\n",
              "    <tr>\n",
              "      <th>2</th>\n",
              "      <td>8</td>\n",
              "      <td>183</td>\n",
              "      <td>64</td>\n",
              "      <td>0</td>\n",
              "      <td>0</td>\n",
              "      <td>23.3</td>\n",
              "      <td>0.672</td>\n",
              "      <td>32</td>\n",
              "      <td>1</td>\n",
              "    </tr>\n",
              "    <tr>\n",
              "      <th>3</th>\n",
              "      <td>1</td>\n",
              "      <td>89</td>\n",
              "      <td>66</td>\n",
              "      <td>23</td>\n",
              "      <td>94</td>\n",
              "      <td>28.1</td>\n",
              "      <td>0.167</td>\n",
              "      <td>21</td>\n",
              "      <td>0</td>\n",
              "    </tr>\n",
              "    <tr>\n",
              "      <th>4</th>\n",
              "      <td>0</td>\n",
              "      <td>137</td>\n",
              "      <td>40</td>\n",
              "      <td>35</td>\n",
              "      <td>168</td>\n",
              "      <td>43.1</td>\n",
              "      <td>2.288</td>\n",
              "      <td>33</td>\n",
              "      <td>1</td>\n",
              "    </tr>\n",
              "  </tbody>\n",
              "</table>\n",
              "</div>"
            ],
            "text/plain": [
              "   Pregnancies  Glucose  BloodPressure  ...  DiabetesPedigreeFunction  Age  Outcome\n",
              "0            6      148             72  ...                     0.627   50        1\n",
              "1            1       85             66  ...                     0.351   31        0\n",
              "2            8      183             64  ...                     0.672   32        1\n",
              "3            1       89             66  ...                     0.167   21        0\n",
              "4            0      137             40  ...                     2.288   33        1\n",
              "\n",
              "[5 rows x 9 columns]"
            ]
          },
          "metadata": {},
          "execution_count": 75
        }
      ]
    },
    {
      "cell_type": "code",
      "metadata": {
        "colab": {
          "base_uri": "https://localhost:8080/",
          "height": 320
        },
        "id": "TjK7OQqamrNj",
        "outputId": "bf40ba71-ebd5-4684-f2c8-64114fb9b229"
      },
      "source": [
        "features.describe()"
      ],
      "execution_count": 76,
      "outputs": [
        {
          "output_type": "execute_result",
          "data": {
            "text/html": [
              "<div>\n",
              "<style scoped>\n",
              "    .dataframe tbody tr th:only-of-type {\n",
              "        vertical-align: middle;\n",
              "    }\n",
              "\n",
              "    .dataframe tbody tr th {\n",
              "        vertical-align: top;\n",
              "    }\n",
              "\n",
              "    .dataframe thead th {\n",
              "        text-align: right;\n",
              "    }\n",
              "</style>\n",
              "<table border=\"1\" class=\"dataframe\">\n",
              "  <thead>\n",
              "    <tr style=\"text-align: right;\">\n",
              "      <th></th>\n",
              "      <th>Pregnancies</th>\n",
              "      <th>Glucose</th>\n",
              "      <th>BloodPressure</th>\n",
              "      <th>SkinThickness</th>\n",
              "      <th>Insulin</th>\n",
              "      <th>BMI</th>\n",
              "      <th>DiabetesPedigreeFunction</th>\n",
              "      <th>Age</th>\n",
              "      <th>Outcome</th>\n",
              "    </tr>\n",
              "  </thead>\n",
              "  <tbody>\n",
              "    <tr>\n",
              "      <th>count</th>\n",
              "      <td>768.000000</td>\n",
              "      <td>768.000000</td>\n",
              "      <td>768.000000</td>\n",
              "      <td>768.000000</td>\n",
              "      <td>768.000000</td>\n",
              "      <td>768.000000</td>\n",
              "      <td>768.000000</td>\n",
              "      <td>768.000000</td>\n",
              "      <td>768.000000</td>\n",
              "    </tr>\n",
              "    <tr>\n",
              "      <th>mean</th>\n",
              "      <td>3.845052</td>\n",
              "      <td>120.894531</td>\n",
              "      <td>69.105469</td>\n",
              "      <td>20.536458</td>\n",
              "      <td>79.799479</td>\n",
              "      <td>31.992578</td>\n",
              "      <td>0.471876</td>\n",
              "      <td>33.240885</td>\n",
              "      <td>0.348958</td>\n",
              "    </tr>\n",
              "    <tr>\n",
              "      <th>std</th>\n",
              "      <td>3.369578</td>\n",
              "      <td>31.972618</td>\n",
              "      <td>19.355807</td>\n",
              "      <td>15.952218</td>\n",
              "      <td>115.244002</td>\n",
              "      <td>7.884160</td>\n",
              "      <td>0.331329</td>\n",
              "      <td>11.760232</td>\n",
              "      <td>0.476951</td>\n",
              "    </tr>\n",
              "    <tr>\n",
              "      <th>min</th>\n",
              "      <td>0.000000</td>\n",
              "      <td>0.000000</td>\n",
              "      <td>0.000000</td>\n",
              "      <td>0.000000</td>\n",
              "      <td>0.000000</td>\n",
              "      <td>0.000000</td>\n",
              "      <td>0.078000</td>\n",
              "      <td>21.000000</td>\n",
              "      <td>0.000000</td>\n",
              "    </tr>\n",
              "    <tr>\n",
              "      <th>25%</th>\n",
              "      <td>1.000000</td>\n",
              "      <td>99.000000</td>\n",
              "      <td>62.000000</td>\n",
              "      <td>0.000000</td>\n",
              "      <td>0.000000</td>\n",
              "      <td>27.300000</td>\n",
              "      <td>0.243750</td>\n",
              "      <td>24.000000</td>\n",
              "      <td>0.000000</td>\n",
              "    </tr>\n",
              "    <tr>\n",
              "      <th>50%</th>\n",
              "      <td>3.000000</td>\n",
              "      <td>117.000000</td>\n",
              "      <td>72.000000</td>\n",
              "      <td>23.000000</td>\n",
              "      <td>30.500000</td>\n",
              "      <td>32.000000</td>\n",
              "      <td>0.372500</td>\n",
              "      <td>29.000000</td>\n",
              "      <td>0.000000</td>\n",
              "    </tr>\n",
              "    <tr>\n",
              "      <th>75%</th>\n",
              "      <td>6.000000</td>\n",
              "      <td>140.250000</td>\n",
              "      <td>80.000000</td>\n",
              "      <td>32.000000</td>\n",
              "      <td>127.250000</td>\n",
              "      <td>36.600000</td>\n",
              "      <td>0.626250</td>\n",
              "      <td>41.000000</td>\n",
              "      <td>1.000000</td>\n",
              "    </tr>\n",
              "    <tr>\n",
              "      <th>max</th>\n",
              "      <td>17.000000</td>\n",
              "      <td>199.000000</td>\n",
              "      <td>122.000000</td>\n",
              "      <td>99.000000</td>\n",
              "      <td>846.000000</td>\n",
              "      <td>67.100000</td>\n",
              "      <td>2.420000</td>\n",
              "      <td>81.000000</td>\n",
              "      <td>1.000000</td>\n",
              "    </tr>\n",
              "  </tbody>\n",
              "</table>\n",
              "</div>"
            ],
            "text/plain": [
              "       Pregnancies     Glucose  ...         Age     Outcome\n",
              "count   768.000000  768.000000  ...  768.000000  768.000000\n",
              "mean      3.845052  120.894531  ...   33.240885    0.348958\n",
              "std       3.369578   31.972618  ...   11.760232    0.476951\n",
              "min       0.000000    0.000000  ...   21.000000    0.000000\n",
              "25%       1.000000   99.000000  ...   24.000000    0.000000\n",
              "50%       3.000000  117.000000  ...   29.000000    0.000000\n",
              "75%       6.000000  140.250000  ...   41.000000    1.000000\n",
              "max      17.000000  199.000000  ...   81.000000    1.000000\n",
              "\n",
              "[8 rows x 9 columns]"
            ]
          },
          "metadata": {},
          "execution_count": 76
        }
      ]
    },
    {
      "cell_type": "markdown",
      "metadata": {
        "id": "2cgV1eoym3PD"
      },
      "source": [
        "Train-Test split + handling missing values with medians"
      ]
    },
    {
      "cell_type": "code",
      "metadata": {
        "colab": {
          "base_uri": "https://localhost:8080/",
          "height": 564
        },
        "id": "R5IyAqkDm1pB",
        "outputId": "a3c00d9e-193f-40ac-83ad-548e8614d857"
      },
      "source": [
        "train, test = train_test_split(features, test_size=0.25, random_state=42, shuffle=True, stratify=labels)\n",
        "train_outcome = train.Outcome\n",
        "train_features = train.drop(columns=['Outcome'])\n",
        "\n",
        "# Subtracting one in order to have -1 in missing values and having a stronger indicator for that. \n",
        "train_features = train_features.replace(0,train_features['Insulin'].median())\n",
        "train_features = train_features.replace(0,train_features['SkinThickness'].median())\n",
        "train_features = train_features.replace(0,train_features['BMI'].median())\n",
        "train_features= train_features.replace(0,train_features['BloodPressure'].median())\n",
        "train_features = train_features.replace(0,train_features['Glucose'].median())\n",
        "\n",
        "\n",
        "test_outcome = test.Outcome\n",
        "test_features = test.drop(columns=['Outcome'])\n",
        "\n",
        "test_features = test_features.replace(0,test_features['Insulin'].median())\n",
        "test_features = test_features.replace(0,test_features['SkinThickness'].median())\n",
        "test_features = test_features.replace(0,test_features['BMI'].median())\n",
        "test_features = test_features.replace(0,test_features['BloodPressure'].median())\n",
        "test_features = test_features.replace(0,test_features['Glucose'].median())\n",
        "\n",
        "#plot histogram train-test\n",
        "train.hist(column='Outcome', bins=3)\n",
        "plt.title(\"Train label hist\")\n",
        "\n",
        "test.hist(column='Outcome', bins=3)\n",
        "plt.title(\"Test label hist\")"
      ],
      "execution_count": 77,
      "outputs": [
        {
          "output_type": "execute_result",
          "data": {
            "text/plain": [
              "Text(0.5, 1.0, 'Test label hist')"
            ]
          },
          "metadata": {},
          "execution_count": 77
        },
        {
          "output_type": "display_data",
          "data": {
            "image/png": "[encoded data removed]",
            "text/plain": [
              "<Figure size 432x288 with 1 Axes>"
            ]
          },
          "metadata": {
            "needs_background": "light"
          }
        },
        {
          "output_type": "display_data",
          "data": {
            "image/png": "[encoded data removed]",
            "text/plain": [
              "<Figure size 432x288 with 1 Axes>"
            ]
          },
          "metadata": {
            "needs_background": "light"
          }
        }
      ]
    },
    {
      "cell_type": "code",
      "metadata": {
        "colab": {
          "base_uri": "https://localhost:8080/",
          "height": 320
        },
        "id": "nSWgqqX2rbJ2",
        "outputId": "96e9269b-fbcc-4634-fba9-fcc0b1069429"
      },
      "source": [
        "train_features.describe()"
      ],
      "execution_count": 78,
      "outputs": [
        {
          "output_type": "execute_result",
          "data": {
            "text/html": [
              "<div>\n",
              "<style scoped>\n",
              "    .dataframe tbody tr th:only-of-type {\n",
              "        vertical-align: middle;\n",
              "    }\n",
              "\n",
              "    .dataframe tbody tr th {\n",
              "        vertical-align: top;\n",
              "    }\n",
              "\n",
              "    .dataframe thead th {\n",
              "        text-align: right;\n",
              "    }\n",
              "</style>\n",
              "<table border=\"1\" class=\"dataframe\">\n",
              "  <thead>\n",
              "    <tr style=\"text-align: right;\">\n",
              "      <th></th>\n",
              "      <th>Pregnancies</th>\n",
              "      <th>Glucose</th>\n",
              "      <th>BloodPressure</th>\n",
              "      <th>SkinThickness</th>\n",
              "      <th>Insulin</th>\n",
              "      <th>BMI</th>\n",
              "      <th>DiabetesPedigreeFunction</th>\n",
              "      <th>Age</th>\n",
              "    </tr>\n",
              "  </thead>\n",
              "  <tbody>\n",
              "    <tr>\n",
              "      <th>count</th>\n",
              "      <td>576.000000</td>\n",
              "      <td>576.000000</td>\n",
              "      <td>576.000000</td>\n",
              "      <td>576.000000</td>\n",
              "      <td>576.000000</td>\n",
              "      <td>576.000000</td>\n",
              "      <td>576.000000</td>\n",
              "      <td>576.000000</td>\n",
              "    </tr>\n",
              "    <tr>\n",
              "      <th>mean</th>\n",
              "      <td>9.248264</td>\n",
              "      <td>121.045139</td>\n",
              "      <td>70.767361</td>\n",
              "      <td>32.251736</td>\n",
              "      <td>96.857639</td>\n",
              "      <td>32.689583</td>\n",
              "      <td>0.480200</td>\n",
              "      <td>33.536458</td>\n",
              "    </tr>\n",
              "    <tr>\n",
              "      <th>std</th>\n",
              "      <td>12.531803</td>\n",
              "      <td>30.874974</td>\n",
              "      <td>13.776276</td>\n",
              "      <td>10.111767</td>\n",
              "      <td>94.756386</td>\n",
              "      <td>6.804231</td>\n",
              "      <td>0.333188</td>\n",
              "      <td>11.878752</td>\n",
              "    </tr>\n",
              "    <tr>\n",
              "      <th>min</th>\n",
              "      <td>1.000000</td>\n",
              "      <td>40.000000</td>\n",
              "      <td>24.000000</td>\n",
              "      <td>7.000000</td>\n",
              "      <td>16.000000</td>\n",
              "      <td>18.200000</td>\n",
              "      <td>0.084000</td>\n",
              "      <td>21.000000</td>\n",
              "    </tr>\n",
              "    <tr>\n",
              "      <th>25%</th>\n",
              "      <td>2.000000</td>\n",
              "      <td>99.000000</td>\n",
              "      <td>62.000000</td>\n",
              "      <td>25.000000</td>\n",
              "      <td>40.000000</td>\n",
              "      <td>27.800000</td>\n",
              "      <td>0.245750</td>\n",
              "      <td>24.000000</td>\n",
              "    </tr>\n",
              "    <tr>\n",
              "      <th>50%</th>\n",
              "      <td>5.000000</td>\n",
              "      <td>116.500000</td>\n",
              "      <td>72.000000</td>\n",
              "      <td>34.000000</td>\n",
              "      <td>40.000000</td>\n",
              "      <td>32.500000</td>\n",
              "      <td>0.384000</td>\n",
              "      <td>30.000000</td>\n",
              "    </tr>\n",
              "    <tr>\n",
              "      <th>75%</th>\n",
              "      <td>8.000000</td>\n",
              "      <td>141.000000</td>\n",
              "      <td>80.000000</td>\n",
              "      <td>40.000000</td>\n",
              "      <td>129.250000</td>\n",
              "      <td>36.825000</td>\n",
              "      <td>0.646250</td>\n",
              "      <td>41.000000</td>\n",
              "    </tr>\n",
              "    <tr>\n",
              "      <th>max</th>\n",
              "      <td>40.000000</td>\n",
              "      <td>199.000000</td>\n",
              "      <td>122.000000</td>\n",
              "      <td>99.000000</td>\n",
              "      <td>744.000000</td>\n",
              "      <td>67.100000</td>\n",
              "      <td>2.329000</td>\n",
              "      <td>81.000000</td>\n",
              "    </tr>\n",
              "  </tbody>\n",
              "</table>\n",
              "</div>"
            ],
            "text/plain": [
              "       Pregnancies     Glucose  ...  DiabetesPedigreeFunction         Age\n",
              "count   576.000000  576.000000  ...                576.000000  576.000000\n",
              "mean      9.248264  121.045139  ...                  0.480200   33.536458\n",
              "std      12.531803   30.874974  ...                  0.333188   11.878752\n",
              "min       1.000000   40.000000  ...                  0.084000   21.000000\n",
              "25%       2.000000   99.000000  ...                  0.245750   24.000000\n",
              "50%       5.000000  116.500000  ...                  0.384000   30.000000\n",
              "75%       8.000000  141.000000  ...                  0.646250   41.000000\n",
              "max      40.000000  199.000000  ...                  2.329000   81.000000\n",
              "\n",
              "[8 rows x 8 columns]"
            ]
          },
          "metadata": {},
          "execution_count": 78
        }
      ]
    },
    {
      "cell_type": "markdown",
      "metadata": {
        "id": "Gymxr5V-62WF"
      },
      "source": [
        "\n",
        "# Plotting the features\n",
        "\n"
      ]
    },
    {
      "cell_type": "code",
      "metadata": {
        "colab": {
          "base_uri": "https://localhost:8080/",
          "height": 1000
        },
        "id": "3DRrXfjTn8qW",
        "outputId": "ce38358d-0b93-445f-adb9-dd785e434643"
      },
      "source": [
        "for column in train_features.columns:\n",
        "  train.hist(column=column)"
      ],
      "execution_count": 79,
      "outputs": [
        {
          "output_type": "display_data",
          "data": {
            "image/png": "[encoded data removed]",
            "text/plain": [
              "<Figure size 432x288 with 1 Axes>"
            ]
          },
          "metadata": {
            "needs_background": "light"
          }
        },
        {
          "output_type": "display_data",
          "data": {
            "image/png": "[encoded data removed]",
            "text/plain": [
              "<Figure size 432x288 with 1 Axes>"
            ]
          },
          "metadata": {
            "needs_background": "light"
          }
        },
        {
          "output_type": "display_data",
          "data": {
            "image/png": "[encoded data removed]",
            "text/plain": [
              "<Figure size 432x288 with 1 Axes>"
            ]
          },
          "metadata": {
            "needs_background": "light"
          }
        },
        {
          "output_type": "display_data",
          "data": {
            "image/png": "[encoded data removed]",
            "text/plain": [
              "<Figure size 432x288 with 1 Axes>"
            ]
          },
          "metadata": {
            "needs_background": "light"
          }
        },
        {
          "output_type": "display_data",
          "data": {
            "image/png": "[encoded data removed]",
            "text/plain": [
              "<Figure size 432x288 with 1 Axes>"
            ]
          },
          "metadata": {
            "needs_background": "light"
          }
        },
        {
          "output_type": "display_data",
          "data": {
            "image/png": "[encoded data removed]",
            "text/plain": [
              "<Figure size 432x288 with 1 Axes>"
            ]
          },
          "metadata": {
            "needs_background": "light"
          }
        },
        {
          "output_type": "display_data",
          "data": {
            "image/png": "[encoded data removed]",
            "text/plain": [
              "<Figure size 432x288 with 1 Axes>"
            ]
          },
          "metadata": {
            "needs_background": "light"
          }
        },
        {
          "output_type": "display_data",
          "data": {
            "image/png": "[encoded data removed]",
            "text/plain": [
              "<Figure size 432x288 with 1 Axes>"
            ]
          },
          "metadata": {
            "needs_background": "light"
          }
        }
      ]
    },
    {
      "cell_type": "code",
      "metadata": {
        "colab": {
          "base_uri": "https://localhost:8080/",
          "height": 284
        },
        "id": "YvT96PSKvg-P",
        "outputId": "4e8d6013-3a91-47bd-cf15-64cbbd497e03"
      },
      "source": [
        "import seaborn as sns\n",
        "sns.boxplot(data = train_features, palette='Set2', orient='h')"
      ],
      "execution_count": 80,
      "outputs": [
        {
          "output_type": "execute_result",
          "data": {
            "text/plain": [
              "<matplotlib.axes._subplots.AxesSubplot at 0x7f44e569b250>"
            ]
          },
          "metadata": {},
          "execution_count": 80
        },
        {
          "output_type": "display_data",
          "data": {
            "image/png": "[encoded data removed]",
            "text/plain": [
              "<Figure size 432x288 with 1 Axes>"
            ]
          },
          "metadata": {
            "needs_background": "light"
          }
        }
      ]
    },
    {
      "cell_type": "code",
      "metadata": {
        "colab": {
          "base_uri": "https://localhost:8080/"
        },
        "id": "WsnHBRAQ1gVX",
        "outputId": "3c32c6b6-fa2b-46f1-e410-633394338bcd"
      },
      "source": [
        "train_IQR = pd.concat([train_features, train_outcome], axis = 1)\n",
        "\n",
        "def removeOutliers(data, col):\n",
        "    q3 = np.quantile(data[col], 0.75)\n",
        "    q1 = np.quantile(data[col], 0.25)\n",
        "    iqr = q3 - q1\n",
        "     \n",
        "    print(\"IQR value for column %s is: %s\" % (col, iqr))\n",
        "    global outlier_free_list\n",
        "    global filtered_data\n",
        "    lower_range = q1 - 1.5 * iqr\n",
        "    upper_range = q3 + 1.5 * iqr\n",
        "    outlier_free_list = [x for x in data[col] if (\n",
        "        (x > lower_range) & (x < upper_range))]\n",
        "    filtered_data = data.loc[data[col].isin(outlier_free_list)]\n",
        " \n",
        "for column in train_IQR.columns:\n",
        "  if(column != 'Outcome'):\n",
        "    removeOutliers(train_IQR, column)\n",
        "\n",
        "print(\"From\", train_IQR.shape, \"To\", filtered_data.shape)\n",
        "train_features = filtered_data.drop(columns=\"Outcome\")\n",
        "train_outcome = filtered_data.Outcome\n",
        " "
      ],
      "execution_count": 81,
      "outputs": [
        {
          "output_type": "stream",
          "name": "stdout",
          "text": [
            "IQR value for column Pregnancies is: 6.0\n",
            "IQR value for column Glucose is: 42.0\n",
            "IQR value for column BloodPressure is: 18.0\n",
            "IQR value for column SkinThickness is: 15.0\n",
            "IQR value for column Insulin is: 89.25\n",
            "IQR value for column BMI is: 9.024999999999995\n",
            "IQR value for column DiabetesPedigreeFunction is: 0.40049999999999997\n",
            "IQR value for column Age is: 17.0\n",
            "From (576, 9) To (570, 9)\n"
          ]
        }
      ]
    },
    {
      "cell_type": "code",
      "metadata": {
        "colab": {
          "base_uri": "https://localhost:8080/"
        },
        "id": "YBlhlg4YpgtV",
        "outputId": "15c3ca2f-4e9e-4d81-fbf9-9087fa470152"
      },
      "source": [
        "\"Training a Baseline Model\"\n",
        "from sklearn.svm import SVC\n",
        "svclassifier = SVC(random_state=1234)\n",
        "svclassifier.fit(train_features,train_outcome)"
      ],
      "execution_count": 82,
      "outputs": [
        {
          "output_type": "execute_result",
          "data": {
            "text/plain": [
              "SVC(random_state=1234)"
            ]
          },
          "metadata": {},
          "execution_count": 82
        }
      ]
    },
    {
      "cell_type": "code",
      "metadata": {
        "colab": {
          "base_uri": "https://localhost:8080/",
          "height": 335
        },
        "id": "ZCpc8NDnptg1",
        "outputId": "6e9759bd-0c8c-48e9-84ef-914f7a5193d8"
      },
      "source": [
        "from sklearn.metrics import plot_confusion_matrix\n",
        "plot_confusion_matrix(svclassifier, test_features , test_outcome, normalize='true')  \n",
        "plt.show() "
      ],
      "execution_count": 83,
      "outputs": [
        {
          "output_type": "stream",
          "name": "stderr",
          "text": [
            "/usr/local/lib/python3.7/dist-packages/sklearn/utils/deprecation.py:87: FutureWarning: Function plot_confusion_matrix is deprecated; Function `plot_confusion_matrix` is deprecated in 1.0 and will be removed in 1.2. Use one of the class methods: ConfusionMatrixDisplay.from_predictions or ConfusionMatrixDisplay.from_estimator.\n",
            "  warnings.warn(msg, category=FutureWarning)\n"
          ]
        },
        {
          "output_type": "display_data",
          "data": {
            "image/png": "[encoded data removed]",
            "text/plain": [
              "<Figure size 432x288 with 2 Axes>"
            ]
          },
          "metadata": {
            "needs_background": "light"
          }
        }
      ]
    },
    {
      "cell_type": "code",
      "metadata": {
        "colab": {
          "base_uri": "https://localhost:8080/",
          "height": 460
        },
        "id": "wWWm3yC68Ccc",
        "outputId": "b4293cc1-b2a3-4135-a1ff-644d8e12fe92"
      },
      "source": [
        "# 1. Perform z-scoring for outlier removal\n",
        "from scipy.stats import zscore\n",
        "import numpy as np\n",
        "\n",
        "feature_list = train_features.columns.tolist()\n",
        "print('Train subjects before outlier removal: ' + str(train_features.shape))\n",
        "\n",
        "# apply zscore\n",
        "zscore_features = train_features.apply(zscore, axis=0)\n",
        "\n",
        "# select all those values with zscore < -+ 3 and discard outliers \n",
        "abs_zscores = np.abs(zscore_features)\n",
        "filtered_entries = (abs_zscores < 3).all(axis=1)\n",
        "\n",
        "train_features = train_features[filtered_entries]\n",
        "train_outcome = train_outcome[filtered_entries]\n",
        "\n",
        "print('Train subjects after outlier removal: ' + str(train_features.shape))\n",
        "\n",
        "display(train_features)"
      ],
      "execution_count": 84,
      "outputs": [
        {
          "output_type": "stream",
          "name": "stdout",
          "text": [
            "Train subjects before outlier removal: (570, 8)\n",
            "Train subjects after outlier removal: (542, 8)\n"
          ]
        },
        {
          "output_type": "display_data",
          "data": {
            "text/html": [
              "<div>\n",
              "<style scoped>\n",
              "    .dataframe tbody tr th:only-of-type {\n",
              "        vertical-align: middle;\n",
              "    }\n",
              "\n",
              "    .dataframe tbody tr th {\n",
              "        vertical-align: top;\n",
              "    }\n",
              "\n",
              "    .dataframe thead th {\n",
              "        text-align: right;\n",
              "    }\n",
              "</style>\n",
              "<table border=\"1\" class=\"dataframe\">\n",
              "  <thead>\n",
              "    <tr style=\"text-align: right;\">\n",
              "      <th></th>\n",
              "      <th>Pregnancies</th>\n",
              "      <th>Glucose</th>\n",
              "      <th>BloodPressure</th>\n",
              "      <th>SkinThickness</th>\n",
              "      <th>Insulin</th>\n",
              "      <th>BMI</th>\n",
              "      <th>DiabetesPedigreeFunction</th>\n",
              "      <th>Age</th>\n",
              "    </tr>\n",
              "  </thead>\n",
              "  <tbody>\n",
              "    <tr>\n",
              "      <th>751</th>\n",
              "      <td>1</td>\n",
              "      <td>121</td>\n",
              "      <td>78</td>\n",
              "      <td>39</td>\n",
              "      <td>74</td>\n",
              "      <td>39.0</td>\n",
              "      <td>0.261</td>\n",
              "      <td>28</td>\n",
              "    </tr>\n",
              "    <tr>\n",
              "      <th>358</th>\n",
              "      <td>12</td>\n",
              "      <td>88</td>\n",
              "      <td>74</td>\n",
              "      <td>40</td>\n",
              "      <td>54</td>\n",
              "      <td>35.3</td>\n",
              "      <td>0.378</td>\n",
              "      <td>48</td>\n",
              "    </tr>\n",
              "    <tr>\n",
              "      <th>718</th>\n",
              "      <td>1</td>\n",
              "      <td>108</td>\n",
              "      <td>60</td>\n",
              "      <td>46</td>\n",
              "      <td>178</td>\n",
              "      <td>35.5</td>\n",
              "      <td>0.415</td>\n",
              "      <td>24</td>\n",
              "    </tr>\n",
              "    <tr>\n",
              "      <th>536</th>\n",
              "      <td>40</td>\n",
              "      <td>105</td>\n",
              "      <td>90</td>\n",
              "      <td>40</td>\n",
              "      <td>40</td>\n",
              "      <td>29.6</td>\n",
              "      <td>0.197</td>\n",
              "      <td>46</td>\n",
              "    </tr>\n",
              "    <tr>\n",
              "      <th>651</th>\n",
              "      <td>1</td>\n",
              "      <td>117</td>\n",
              "      <td>60</td>\n",
              "      <td>23</td>\n",
              "      <td>106</td>\n",
              "      <td>33.8</td>\n",
              "      <td>0.466</td>\n",
              "      <td>27</td>\n",
              "    </tr>\n",
              "    <tr>\n",
              "      <th>...</th>\n",
              "      <td>...</td>\n",
              "      <td>...</td>\n",
              "      <td>...</td>\n",
              "      <td>...</td>\n",
              "      <td>...</td>\n",
              "      <td>...</td>\n",
              "      <td>...</td>\n",
              "      <td>...</td>\n",
              "    </tr>\n",
              "    <tr>\n",
              "      <th>676</th>\n",
              "      <td>9</td>\n",
              "      <td>156</td>\n",
              "      <td>86</td>\n",
              "      <td>40</td>\n",
              "      <td>40</td>\n",
              "      <td>24.8</td>\n",
              "      <td>0.230</td>\n",
              "      <td>53</td>\n",
              "    </tr>\n",
              "    <tr>\n",
              "      <th>113</th>\n",
              "      <td>4</td>\n",
              "      <td>76</td>\n",
              "      <td>62</td>\n",
              "      <td>40</td>\n",
              "      <td>40</td>\n",
              "      <td>34.0</td>\n",
              "      <td>0.391</td>\n",
              "      <td>25</td>\n",
              "    </tr>\n",
              "    <tr>\n",
              "      <th>556</th>\n",
              "      <td>1</td>\n",
              "      <td>97</td>\n",
              "      <td>70</td>\n",
              "      <td>40</td>\n",
              "      <td>40</td>\n",
              "      <td>38.1</td>\n",
              "      <td>0.218</td>\n",
              "      <td>30</td>\n",
              "    </tr>\n",
              "    <tr>\n",
              "      <th>152</th>\n",
              "      <td>9</td>\n",
              "      <td>156</td>\n",
              "      <td>86</td>\n",
              "      <td>28</td>\n",
              "      <td>155</td>\n",
              "      <td>34.3</td>\n",
              "      <td>1.189</td>\n",
              "      <td>42</td>\n",
              "    </tr>\n",
              "    <tr>\n",
              "      <th>107</th>\n",
              "      <td>4</td>\n",
              "      <td>144</td>\n",
              "      <td>58</td>\n",
              "      <td>28</td>\n",
              "      <td>140</td>\n",
              "      <td>29.5</td>\n",
              "      <td>0.287</td>\n",
              "      <td>37</td>\n",
              "    </tr>\n",
              "  </tbody>\n",
              "</table>\n",
              "<p>542 rows × 8 columns</p>\n",
              "</div>"
            ],
            "text/plain": [
              "     Pregnancies  Glucose  BloodPressure  ...   BMI  DiabetesPedigreeFunction  Age\n",
              "751            1      121             78  ...  39.0                     0.261   28\n",
              "358           12       88             74  ...  35.3                     0.378   48\n",
              "718            1      108             60  ...  35.5                     0.415   24\n",
              "536           40      105             90  ...  29.6                     0.197   46\n",
              "651            1      117             60  ...  33.8                     0.466   27\n",
              "..           ...      ...            ...  ...   ...                       ...  ...\n",
              "676            9      156             86  ...  24.8                     0.230   53\n",
              "113            4       76             62  ...  34.0                     0.391   25\n",
              "556            1       97             70  ...  38.1                     0.218   30\n",
              "152            9      156             86  ...  34.3                     1.189   42\n",
              "107            4      144             58  ...  29.5                     0.287   37\n",
              "\n",
              "[542 rows x 8 columns]"
            ]
          },
          "metadata": {}
        }
      ]
    },
    {
      "cell_type": "code",
      "metadata": {
        "id": "OPW8cnfv4tFp"
      },
      "source": [
        "# 2. Standarize data with RobustScaler transformation\n",
        "from sklearn.preprocessing import RobustScaler\n",
        "\n",
        "transformer = RobustScaler().fit(train_features)\n",
        "features_list = train_features.columns.tolist()\n",
        "train_features_zscore = transformer.transform(train_features)\n",
        "#Transform the numpy array back to a dataframe\n",
        "train_features = pd.DataFrame(data=train_features_zscore, columns=features_list)\n",
        "\n",
        "# adapt test set\n",
        "transformer_test = RobustScaler().fit(test_features)\n",
        "test_features = transformer_test.transform(test_features)\n",
        "test_features = pd.DataFrame(data=test_features, columns=features_list)"
      ],
      "execution_count": 85,
      "outputs": []
    },
    {
      "cell_type": "code",
      "metadata": {
        "colab": {
          "base_uri": "https://localhost:8080/",
          "height": 1000
        },
        "id": "LlR-_qeRrlad",
        "outputId": "beac70ff-de42-4ecc-8022-8d576d90e698"
      },
      "source": [
        "for column in train_features.columns:\n",
        "  train_features.hist(column=column)"
      ],
      "execution_count": 86,
      "outputs": [
        {
          "output_type": "display_data",
          "data": {
            "image/png": "[encoded data removed]",
            "text/plain": [
              "<Figure size 432x288 with 1 Axes>"
            ]
          },
          "metadata": {
            "needs_background": "light"
          }
        },
        {
          "output_type": "display_data",
          "data": {
            "image/png": "[encoded data removed]",
            "text/plain": [
              "<Figure size 432x288 with 1 Axes>"
            ]
          },
          "metadata": {
            "needs_background": "light"
          }
        },
        {
          "output_type": "display_data",
          "data": {
            "image/png": "[encoded data removed]",
            "text/plain": [
              "<Figure size 432x288 with 1 Axes>"
            ]
          },
          "metadata": {
            "needs_background": "light"
          }
        },
        {
          "output_type": "display_data",
          "data": {
            "image/png": "[encoded data removed]",
            "text/plain": [
              "<Figure size 432x288 with 1 Axes>"
            ]
          },
          "metadata": {
            "needs_background": "light"
          }
        },
        {
          "output_type": "display_data",
          "data": {
            "image/png": "[encoded data removed]",
            "text/plain": [
              "<Figure size 432x288 with 1 Axes>"
            ]
          },
          "metadata": {
            "needs_background": "light"
          }
        },
        {
          "output_type": "display_data",
          "data": {
            "image/png": "[encoded data removed]",
            "text/plain": [
              "<Figure size 432x288 with 1 Axes>"
            ]
          },
          "metadata": {
            "needs_background": "light"
          }
        },
        {
          "output_type": "display_data",
          "data": {
            "image/png": "[encoded data removed]",
            "text/plain": [
              "<Figure size 432x288 with 1 Axes>"
            ]
          },
          "metadata": {
            "needs_background": "light"
          }
        },
        {
          "output_type": "display_data",
          "data": {
            "image/png": "[encoded data removed]",
            "text/plain": [
              "<Figure size 432x288 with 1 Axes>"
            ]
          },
          "metadata": {
            "needs_background": "light"
          }
        }
      ]
    },
    {
      "cell_type": "code",
      "metadata": {
        "colab": {
          "base_uri": "https://localhost:8080/"
        },
        "id": "G4a3e_r5ry3c",
        "outputId": "91b3dbb2-5584-4315-fc78-67bab0195261"
      },
      "source": [
        "\"Training a Baseline Model\"\n",
        "from sklearn.svm import SVC\n",
        "svclassifier = SVC(C=1.0,\n",
        "              kernel='rbf', # linear ‘linear’, ‘poly’, ‘rbf’, ‘sigmoid’, ‘precomputed’\n",
        "              degree=6,\n",
        "              gamma='scale',\n",
        "              coef0=0.0, \n",
        "              shrinking=True,\n",
        "              probability=False,\n",
        "              tol=0.001,\n",
        "              cache_size=200, \n",
        "              class_weight=None, # vs balanced\n",
        "              verbose=False,\n",
        "              max_iter=- 1,\n",
        "              decision_function_shape='ovr',\n",
        "              break_ties=False,\n",
        "              random_state=1234)\n",
        "svclassifier.fit(train_features,train_outcome)"
      ],
      "execution_count": 87,
      "outputs": [
        {
          "output_type": "execute_result",
          "data": {
            "text/plain": [
              "SVC(degree=6, random_state=1234)"
            ]
          },
          "metadata": {},
          "execution_count": 87
        }
      ]
    },
    {
      "cell_type": "code",
      "metadata": {
        "colab": {
          "base_uri": "https://localhost:8080/",
          "height": 335
        },
        "id": "g343apQXr4rV",
        "outputId": "e13e7b36-3bfc-4faa-d675-faaa0360f414"
      },
      "source": [
        "from sklearn.metrics import plot_confusion_matrix\n",
        "plot_confusion_matrix(svclassifier, test_features , test_outcome, normalize='true')  \n",
        "plt.show() "
      ],
      "execution_count": 88,
      "outputs": [
        {
          "output_type": "stream",
          "name": "stderr",
          "text": [
            "/usr/local/lib/python3.7/dist-packages/sklearn/utils/deprecation.py:87: FutureWarning: Function plot_confusion_matrix is deprecated; Function `plot_confusion_matrix` is deprecated in 1.0 and will be removed in 1.2. Use one of the class methods: ConfusionMatrixDisplay.from_predictions or ConfusionMatrixDisplay.from_estimator.\n",
            "  warnings.warn(msg, category=FutureWarning)\n"
          ]
        },
        {
          "output_type": "display_data",
          "data": {
            "image/png": "[encoded data removed]",
            "text/plain": [
              "<Figure size 432x288 with 2 Axes>"
            ]
          },
          "metadata": {
            "needs_background": "light"
          }
        }
      ]
    },
    {
      "cell_type": "markdown",
      "metadata": {
        "id": "xKk-q4IbsD6d"
      },
      "source": [
        "The FN improves a little bit, but the model does not perform that much well."
      ]
    },
    {
      "cell_type": "markdown",
      "metadata": {
        "id": "xbuIVjYasOk7"
      },
      "source": [
        "**Features Selection**"
      ]
    },
    {
      "cell_type": "code",
      "metadata": {
        "colab": {
          "base_uri": "https://localhost:8080/",
          "height": 716
        },
        "id": "SwspqGkxaELs",
        "outputId": "fa1729a1-9bd3-4d83-d962-3e0c986e1988"
      },
      "source": [
        "import seaborn as sns\n",
        "\n",
        "plt.figure(figsize=(12,10))  # on this line I just set the size of figure to 12 by 10.\n",
        "p=sns.heatmap(train_features.corr(), annot=True,cmap ='RdYlGn')  # seaborn has very simple solution for heatmap"
      ],
      "execution_count": 89,
      "outputs": [
        {
          "output_type": "display_data",
          "data": {
            "image/png": "[encoded data removed]",
            "text/plain": [
              "<Figure size 864x720 with 2 Axes>"
            ]
          },
          "metadata": {
            "needs_background": "light"
          }
        }
      ]
    },
    {
      "cell_type": "code",
      "metadata": {
        "colab": {
          "base_uri": "https://localhost:8080/"
        },
        "id": "kPO_VzXss5mg",
        "outputId": "d98ad854-a380-464b-9ddc-5cba799a9c44"
      },
      "source": [
        "#   iii. recursive feature elimination\n",
        "from sklearn.svm import SVC\n",
        "from sklearn.model_selection import StratifiedKFold\n",
        "from sklearn.feature_selection import RFECV\n",
        "from sklearn.datasets import make_classification\n",
        "\n",
        "svc = SVC(kernel=\"linear\")\n",
        "min_features_to_select = 1\n",
        "\n",
        "rfecv = RFECV(estimator=svc, step=1, cv=StratifiedKFold(3),\n",
        "              scoring='balanced_accuracy',\n",
        "              min_features_to_select=min_features_to_select)\n",
        "\n",
        "rfecv.fit(train_features, train_outcome)\n",
        "train_features = train_features.iloc[:, rfecv.support_]\n",
        "test_features = test_features.drop(columns = list(set(test_features.columns) - set(train_features.columns)))\n",
        "print(\"Survived: \", list(train_features.columns))"
      ],
      "execution_count": 90,
      "outputs": [
        {
          "output_type": "stream",
          "name": "stdout",
          "text": [
            "Survived:  ['Glucose', 'BMI', 'DiabetesPedigreeFunction']\n"
          ]
        },
        {
          "output_type": "stream",
          "name": "stderr",
          "text": [
            "/usr/local/lib/python3.7/dist-packages/sklearn/base.py:446: UserWarning: X does not have valid feature names, but RFECV was fitted with feature names\n",
            "  \"X does not have valid feature names, but\"\n"
          ]
        }
      ]
    },
    {
      "cell_type": "markdown",
      "metadata": {
        "id": "3YlW7YuvnSTc"
      },
      "source": [
        "Trying to fit model using selected features"
      ]
    },
    {
      "cell_type": "code",
      "metadata": {
        "colab": {
          "base_uri": "https://localhost:8080/",
          "height": 284
        },
        "id": "2T4dIQCRJmDQ",
        "outputId": "da936b8f-2b2e-4609-d550-0ce8d26a00b1"
      },
      "source": [
        "sns.boxplot(data = train_features, palette='Set2', orient='h')"
      ],
      "execution_count": 91,
      "outputs": [
        {
          "output_type": "execute_result",
          "data": {
            "text/plain": [
              "<matplotlib.axes._subplots.AxesSubplot at 0x7f44d4e5fbd0>"
            ]
          },
          "metadata": {},
          "execution_count": 91
        },
        {
          "output_type": "display_data",
          "data": {
            "image/png": "[encoded data removed]",
            "text/plain": [
              "<Figure size 432x288 with 1 Axes>"
            ]
          },
          "metadata": {
            "needs_background": "light"
          }
        }
      ]
    },
    {
      "cell_type": "code",
      "metadata": {
        "colab": {
          "base_uri": "https://localhost:8080/"
        },
        "id": "8rGT5ZsMcSx8",
        "outputId": "48844d5a-052b-4cdd-e29a-79cf45101023"
      },
      "source": [
        "\"Training a Baseline Model\"\n",
        "from sklearn.svm import SVC\n",
        "svclassifier = SVC(C=1.0,\n",
        "              kernel='rbf', # linear ‘linear’, ‘poly’, ‘rbf’, ‘sigmoid’, ‘precomputed’\n",
        "              degree=10,\n",
        "              gamma='scale',\n",
        "              coef0=0.0, \n",
        "              shrinking=True,\n",
        "              probability=False,\n",
        "              tol=0.001,\n",
        "              cache_size=200, \n",
        "              class_weight='balanced', # vs balanced\n",
        "              verbose=False,\n",
        "              max_iter=- 1,\n",
        "              decision_function_shape='ovr',\n",
        "              break_ties=False,\n",
        "              random_state=1234)\n",
        "svclassifier.fit(train_features,train_outcome)"
      ],
      "execution_count": 92,
      "outputs": [
        {
          "output_type": "execute_result",
          "data": {
            "text/plain": [
              "SVC(class_weight='balanced', degree=10, random_state=1234)"
            ]
          },
          "metadata": {},
          "execution_count": 92
        }
      ]
    },
    {
      "cell_type": "code",
      "metadata": {
        "colab": {
          "base_uri": "https://localhost:8080/",
          "height": 335
        },
        "id": "Gtq5MoPNcSft",
        "outputId": "cd835b35-2c2f-4561-8c0a-0e3a3fee1b6e"
      },
      "source": [
        "from sklearn.metrics import plot_confusion_matrix\n",
        "plot_confusion_matrix(svclassifier, test_features, test_outcome, normalize='true')  \n",
        "plt.show() "
      ],
      "execution_count": 93,
      "outputs": [
        {
          "output_type": "stream",
          "name": "stderr",
          "text": [
            "/usr/local/lib/python3.7/dist-packages/sklearn/utils/deprecation.py:87: FutureWarning: Function plot_confusion_matrix is deprecated; Function `plot_confusion_matrix` is deprecated in 1.0 and will be removed in 1.2. Use one of the class methods: ConfusionMatrixDisplay.from_predictions or ConfusionMatrixDisplay.from_estimator.\n",
            "  warnings.warn(msg, category=FutureWarning)\n"
          ]
        },
        {
          "output_type": "display_data",
          "data": {
            "image/png": "[encoded data removed]",
            "text/plain": [
              "<Figure size 432x288 with 2 Axes>"
            ]
          },
          "metadata": {
            "needs_background": "light"
          }
        }
      ]
    },
    {
      "cell_type": "code",
      "metadata": {
        "colab": {
          "base_uri": "https://localhost:8080/"
        },
        "id": "yyKuRBgou28e",
        "outputId": "ca88599a-9311-4de8-ef1e-40cb627ffce8"
      },
      "source": [
        "from sklearn.ensemble import RandomForestClassifier\n",
        "\n",
        "randomForest = RandomForestClassifier(random_state=1234, class_weight='balanced', max_depth=100, n_estimators=300)\n",
        "randomForest.fit(train_features, train_outcome)"
      ],
      "execution_count": 94,
      "outputs": [
        {
          "output_type": "execute_result",
          "data": {
            "text/plain": [
              "RandomForestClassifier(class_weight='balanced', max_depth=100, n_estimators=300,\n",
              "                       random_state=1234)"
            ]
          },
          "metadata": {},
          "execution_count": 94
        }
      ]
    },
    {
      "cell_type": "code",
      "metadata": {
        "colab": {
          "base_uri": "https://localhost:8080/",
          "height": 335
        },
        "id": "-QJcoOd7vB-g",
        "outputId": "3cdbe668-98d7-4fea-aa4d-f9829a4c28f6"
      },
      "source": [
        "from sklearn.metrics import plot_confusion_matrix\n",
        "plot_confusion_matrix(randomForest, test_features, test_outcome, normalize='true')  \n",
        "plt.show() "
      ],
      "execution_count": 95,
      "outputs": [
        {
          "output_type": "stream",
          "name": "stderr",
          "text": [
            "/usr/local/lib/python3.7/dist-packages/sklearn/utils/deprecation.py:87: FutureWarning: Function plot_confusion_matrix is deprecated; Function `plot_confusion_matrix` is deprecated in 1.0 and will be removed in 1.2. Use one of the class methods: ConfusionMatrixDisplay.from_predictions or ConfusionMatrixDisplay.from_estimator.\n",
            "  warnings.warn(msg, category=FutureWarning)\n"
          ]
        },
        {
          "output_type": "display_data",
          "data": {
            "image/png": "[encoded data removed]",
            "text/plain": [
              "<Figure size 432x288 with 2 Axes>"
            ]
          },
          "metadata": {
            "needs_background": "light"
          }
        }
      ]
    },
    {
      "cell_type": "code",
      "metadata": {
        "colab": {
          "base_uri": "https://localhost:8080/"
        },
        "id": "PSzKrFxq5H-C",
        "outputId": "599724b4-b28b-4b83-cd14-59954580d7b0"
      },
      "source": [
        "from sklearn.ensemble import AdaBoostClassifier\n",
        "\n",
        "ada = AdaBoostClassifier(random_state=1234, n_estimators=100)\n",
        "ada.fit(train_features, train_outcome)"
      ],
      "execution_count": 96,
      "outputs": [
        {
          "output_type": "execute_result",
          "data": {
            "text/plain": [
              "AdaBoostClassifier(n_estimators=100, random_state=1234)"
            ]
          },
          "metadata": {},
          "execution_count": 96
        }
      ]
    },
    {
      "cell_type": "code",
      "metadata": {
        "colab": {
          "base_uri": "https://localhost:8080/",
          "height": 335
        },
        "id": "2ZMsu6525P2H",
        "outputId": "49158609-c694-4265-f869-0843cd65ee26"
      },
      "source": [
        "from sklearn.metrics import plot_confusion_matrix\n",
        "plot_confusion_matrix(ada, test_features, test_outcome, normalize='true')  \n",
        "plt.show() "
      ],
      "execution_count": 97,
      "outputs": [
        {
          "output_type": "stream",
          "name": "stderr",
          "text": [
            "/usr/local/lib/python3.7/dist-packages/sklearn/utils/deprecation.py:87: FutureWarning: Function plot_confusion_matrix is deprecated; Function `plot_confusion_matrix` is deprecated in 1.0 and will be removed in 1.2. Use one of the class methods: ConfusionMatrixDisplay.from_predictions or ConfusionMatrixDisplay.from_estimator.\n",
            "  warnings.warn(msg, category=FutureWarning)\n"
          ]
        },
        {
          "output_type": "display_data",
          "data": {
            "image/png": "[encoded data removed]",
            "text/plain": [
              "<Figure size 432x288 with 2 Axes>"
            ]
          },
          "metadata": {
            "needs_background": "light"
          }
        }
      ]
    },
    {
      "cell_type": "code",
      "metadata": {
        "colab": {
          "base_uri": "https://localhost:8080/"
        },
        "id": "TLWLYP-VwAXr",
        "outputId": "ce81c573-2ccf-4511-d6e3-d22cc9e32007"
      },
      "source": [
        "from sklearn.metrics import classification_report\n",
        "print(classification_report(test_outcome, svclassifier.predict(test_features)))"
      ],
      "execution_count": 98,
      "outputs": [
        {
          "output_type": "stream",
          "name": "stdout",
          "text": [
            "              precision    recall  f1-score   support\n",
            "\n",
            "           0       0.82      0.74      0.78       125\n",
            "           1       0.59      0.70      0.64        67\n",
            "\n",
            "    accuracy                           0.73       192\n",
            "   macro avg       0.71      0.72      0.71       192\n",
            "weighted avg       0.74      0.73      0.73       192\n",
            "\n"
          ]
        }
      ]
    },
    {
      "cell_type": "code",
      "metadata": {
        "colab": {
          "base_uri": "https://localhost:8080/"
        },
        "id": "5jlqk6dHvHX5",
        "outputId": "e635192c-d0a4-4cb6-bdea-8cc6d3d1b9f3"
      },
      "source": [
        "from sklearn.metrics import classification_report\n",
        "print(classification_report(test_outcome, randomForest.predict(test_features)))"
      ],
      "execution_count": 99,
      "outputs": [
        {
          "output_type": "stream",
          "name": "stdout",
          "text": [
            "              precision    recall  f1-score   support\n",
            "\n",
            "           0       0.75      0.85      0.79       125\n",
            "           1       0.62      0.46      0.53        67\n",
            "\n",
            "    accuracy                           0.71       192\n",
            "   macro avg       0.68      0.66      0.66       192\n",
            "weighted avg       0.70      0.71      0.70       192\n",
            "\n"
          ]
        }
      ]
    },
    {
      "cell_type": "code",
      "metadata": {
        "id": "eLPdoSfK8Y5v",
        "colab": {
          "base_uri": "https://localhost:8080/"
        },
        "outputId": "de30649c-143f-463a-e100-4711bbf4c43b"
      },
      "source": [
        "from sklearn.metrics import classification_report\n",
        "print(classification_report(test_outcome, ada.predict(test_features)))"
      ],
      "execution_count": 100,
      "outputs": [
        {
          "output_type": "stream",
          "name": "stdout",
          "text": [
            "              precision    recall  f1-score   support\n",
            "\n",
            "           0       0.73      0.87      0.79       125\n",
            "           1       0.62      0.39      0.48        67\n",
            "\n",
            "    accuracy                           0.70       192\n",
            "   macro avg       0.67      0.63      0.63       192\n",
            "weighted avg       0.69      0.70      0.68       192\n",
            "\n"
          ]
        }
      ]
    },
    {
      "cell_type": "markdown",
      "metadata": {
        "id": "wOPYBlyGaVe_"
      },
      "source": [
        "# Hyperparameters Optimization"
      ]
    },
    {
      "cell_type": "markdown",
      "metadata": {
        "id": "s_5LAC8XaoyO"
      },
      "source": [
        "Let's try to do a Random Search in order to find a better model starting from the models that we have considered before like SVM and RandomForest."
      ]
    },
    {
      "cell_type": "code",
      "metadata": {
        "colab": {
          "base_uri": "https://localhost:8080/",
          "height": 701
        },
        "id": "2TqcMg17aY5j",
        "outputId": "b7797ca0-5300-45cd-d55d-67c8d4e1da19"
      },
      "source": [
        "param_grid = [\n",
        "              {'kernel': ['rbf'], \n",
        "               'gamma': [1e-3, 1e-4],\n",
        "               'C': [1, 10, 100, 1000], \n",
        "               'class_weight': ['balanced']},\n",
        "              {'kernel': ['linear'],\n",
        "               'C': [1, 10, 100, 1000], \n",
        "               'class_weight': ['balanced']},\n",
        "              {'kernel': ['poly'],\n",
        "               'C': [1, 10, 100, 1000],\n",
        "               'degree': [2, 3, 4, 5, 6], \n",
        "               'coef0': [0.0, 0.1, 0.5, 1],\n",
        "               'class_weight': ['balanced']}\n",
        "              ]\n",
        "\n",
        "# 2. Crossvalidate model to obtain the best fit \n",
        "from sklearn.model_selection import RandomizedSearchCV\n",
        "from sklearn.model_selection import RepeatedStratifiedKFold\n",
        "\n",
        "cv = RepeatedStratifiedKFold(n_splits=10, n_repeats=3, random_state=1)\n",
        "clf = RandomizedSearchCV(SVC(random_state=1234), param_grid, cv=cv, scoring='f1_macro', random_state=1234)\n",
        "clf.fit(train_features, train_outcome)\n",
        "\n",
        "for param, score in zip(clf.cv_results_['params'], clf.cv_results_['mean_test_score']):\n",
        "    print(param, score)\n",
        "\n",
        "print('Best combination of hyperparameters: ' + str(clf.best_params_))\n",
        "\n",
        "clf_best = SVC(**clf.best_params_, random_state=1234)\n",
        "clf_best.fit(train_features, train_outcome)\n",
        "\n",
        "print(classification_report(test_outcome, clf_best.predict(test_features)))\n",
        "plot_confusion_matrix(clf_best, test_features, test_outcome, normalize='true')  \n",
        "plt.show() "
      ],
      "execution_count": 101,
      "outputs": [
        {
          "output_type": "stream",
          "name": "stdout",
          "text": [
            "{'kernel': 'poly', 'degree': 3, 'coef0': 1, 'class_weight': 'balanced', 'C': 1000} 0.715109145116328\n",
            "{'kernel': 'poly', 'degree': 3, 'coef0': 1, 'class_weight': 'balanced', 'C': 10} 0.7140934766967512\n",
            "{'kernel': 'poly', 'degree': 5, 'coef0': 0.0, 'class_weight': 'balanced', 'C': 10} 0.6748646139274599\n",
            "{'kernel': 'poly', 'degree': 2, 'coef0': 1, 'class_weight': 'balanced', 'C': 1000} 0.7200326731353982\n",
            "{'kernel': 'poly', 'degree': 6, 'coef0': 0.1, 'class_weight': 'balanced', 'C': 100} 0.6809166096524084\n",
            "{'kernel': 'poly', 'degree': 6, 'coef0': 0.1, 'class_weight': 'balanced', 'C': 10} 0.6931079853832772\n",
            "{'kernel': 'poly', 'degree': 6, 'coef0': 1, 'class_weight': 'balanced', 'C': 100} 0.6649127119931588\n",
            "{'kernel': 'poly', 'degree': 2, 'coef0': 0.5, 'class_weight': 'balanced', 'C': 100} 0.7200326731353982\n",
            "{'kernel': 'poly', 'degree': 2, 'coef0': 1, 'class_weight': 'balanced', 'C': 1} 0.723181408487172\n",
            "{'kernel': 'poly', 'degree': 5, 'coef0': 1, 'class_weight': 'balanced', 'C': 100} 0.6789955223210798\n",
            "Best combination of hyperparameters: {'kernel': 'poly', 'degree': 2, 'coef0': 1, 'class_weight': 'balanced', 'C': 1}\n",
            "              precision    recall  f1-score   support\n",
            "\n",
            "           0       0.82      0.72      0.77       125\n",
            "           1       0.57      0.70      0.63        67\n",
            "\n",
            "    accuracy                           0.71       192\n",
            "   macro avg       0.70      0.71      0.70       192\n",
            "weighted avg       0.73      0.71      0.72       192\n",
            "\n"
          ]
        },
        {
          "output_type": "stream",
          "name": "stderr",
          "text": [
            "/usr/local/lib/python3.7/dist-packages/sklearn/utils/deprecation.py:87: FutureWarning: Function plot_confusion_matrix is deprecated; Function `plot_confusion_matrix` is deprecated in 1.0 and will be removed in 1.2. Use one of the class methods: ConfusionMatrixDisplay.from_predictions or ConfusionMatrixDisplay.from_estimator.\n",
            "  warnings.warn(msg, category=FutureWarning)\n"
          ]
        },
        {
          "output_type": "display_data",
          "data": {
            "image/png": "[encoded data removed]",
            "text/plain": [
              "<Figure size 432x288 with 2 Axes>"
            ]
          },
          "metadata": {
            "needs_background": "light"
          }
        }
      ]
    },
    {
      "cell_type": "code",
      "metadata": {
        "colab": {
          "base_uri": "https://localhost:8080/",
          "height": 701
        },
        "id": "wgqjLDipa-sv",
        "outputId": "00f93cea-9ba2-4310-f931-2946c611a208"
      },
      "source": [
        "# 1. Define the values for each hyperparameter\n",
        "param_grid = {\n",
        " 'max_depth': [10, 20, 30, 40, 50, 60, 70, 80, 90, 100, None],\n",
        " 'max_features': ['auto', 'sqrt'],\n",
        " 'min_samples_leaf': [1, 2, 4],\n",
        " 'min_samples_split': [2, 5, 10],\n",
        " 'n_estimators': [200, 400, 600, 800]}\n",
        "\n",
        "# 2. Crossvalidate model to obtain the best fit \n",
        "from sklearn.model_selection import RandomizedSearchCV\n",
        "from sklearn.model_selection import RepeatedStratifiedKFold\n",
        "\n",
        "cv = RepeatedStratifiedKFold(n_splits=10, n_repeats=3, random_state=1)\n",
        "clf = RandomizedSearchCV(RandomForestClassifier(class_weight='balanced', random_state=1234), param_grid, cv = cv, scoring='f1_macro', random_state=1234)\n",
        "clf.fit(train_features, train_outcome)\n",
        "\n",
        "for param, score in zip(clf.cv_results_['params'], clf.cv_results_['mean_test_score']):\n",
        "    print(param, score)\n",
        "\n",
        "print('Best combination of hyperparameters: ' + str(clf.best_params_))\n",
        "\n",
        "clf_best = RandomForestClassifier(**clf.best_params_, class_weight='balanced', random_state=1234)\n",
        "clf_best.fit(train_features, train_outcome)\n",
        "\n",
        "print(classification_report(test_outcome, clf_best.predict(test_features)))\n",
        "plot_confusion_matrix(clf_best, test_features, test_outcome, normalize='true')  \n",
        "plt.show() "
      ],
      "execution_count": 102,
      "outputs": [
        {
          "output_type": "stream",
          "name": "stdout",
          "text": [
            "{'n_estimators': 200, 'min_samples_split': 2, 'min_samples_leaf': 4, 'max_features': 'sqrt', 'max_depth': 50} 0.7137963178054831\n",
            "{'n_estimators': 200, 'min_samples_split': 10, 'min_samples_leaf': 4, 'max_features': 'sqrt', 'max_depth': 60} 0.7098687568024136\n",
            "{'n_estimators': 600, 'min_samples_split': 5, 'min_samples_leaf': 2, 'max_features': 'sqrt', 'max_depth': None} 0.714126040200942\n",
            "{'n_estimators': 400, 'min_samples_split': 5, 'min_samples_leaf': 4, 'max_features': 'sqrt', 'max_depth': 40} 0.7170943013847555\n",
            "{'n_estimators': 600, 'min_samples_split': 5, 'min_samples_leaf': 2, 'max_features': 'auto', 'max_depth': 70} 0.714126040200942\n",
            "{'n_estimators': 200, 'min_samples_split': 2, 'min_samples_leaf': 2, 'max_features': 'sqrt', 'max_depth': 90} 0.7089964431234382\n",
            "{'n_estimators': 400, 'min_samples_split': 2, 'min_samples_leaf': 2, 'max_features': 'sqrt', 'max_depth': 100} 0.7114741262324382\n",
            "{'n_estimators': 800, 'min_samples_split': 10, 'min_samples_leaf': 2, 'max_features': 'sqrt', 'max_depth': 60} 0.716154524103518\n",
            "{'n_estimators': 400, 'min_samples_split': 10, 'min_samples_leaf': 4, 'max_features': 'auto', 'max_depth': None} 0.7136348508418178\n",
            "{'n_estimators': 400, 'min_samples_split': 5, 'min_samples_leaf': 4, 'max_features': 'sqrt', 'max_depth': 10} 0.7197509552772176\n",
            "Best combination of hyperparameters: {'n_estimators': 400, 'min_samples_split': 5, 'min_samples_leaf': 4, 'max_features': 'sqrt', 'max_depth': 10}\n",
            "              precision    recall  f1-score   support\n",
            "\n",
            "           0       0.80      0.79      0.80       125\n",
            "           1       0.62      0.64      0.63        67\n",
            "\n",
            "    accuracy                           0.74       192\n",
            "   macro avg       0.71      0.72      0.72       192\n",
            "weighted avg       0.74      0.74      0.74       192\n",
            "\n"
          ]
        },
        {
          "output_type": "stream",
          "name": "stderr",
          "text": [
            "/usr/local/lib/python3.7/dist-packages/sklearn/utils/deprecation.py:87: FutureWarning: Function plot_confusion_matrix is deprecated; Function `plot_confusion_matrix` is deprecated in 1.0 and will be removed in 1.2. Use one of the class methods: ConfusionMatrixDisplay.from_predictions or ConfusionMatrixDisplay.from_estimator.\n",
            "  warnings.warn(msg, category=FutureWarning)\n"
          ]
        },
        {
          "output_type": "display_data",
          "data": {
            "image/png": "[encoded data removed]",
            "text/plain": [
              "<Figure size 432x288 with 2 Axes>"
            ]
          },
          "metadata": {
            "needs_background": "light"
          }
        }
      ]
    }
  ]
}